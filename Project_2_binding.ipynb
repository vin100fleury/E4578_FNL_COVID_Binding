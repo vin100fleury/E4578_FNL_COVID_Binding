{
 "cells": [
  {
   "cell_type": "code",
   "execution_count": 1,
   "metadata": {},
   "outputs": [],
   "source": [
    "import deepchem as dc\n",
    "import pandas as pd\n",
    "import numpy as np\n",
    "import matplotlib.pyplot as plt\n",
    "import requests\n",
    "import rdkit\n",
    "from mordred import Calculator, descriptors\n",
    "import json\n",
    "\n",
    "%matplotlib inline"
   ]
  },
  {
   "cell_type": "code",
   "execution_count": 2,
   "metadata": {},
   "outputs": [
    {
     "data": {
      "text/html": [
       "<div>\n",
       "<style scoped>\n",
       "    .dataframe tbody tr th:only-of-type {\n",
       "        vertical-align: middle;\n",
       "    }\n",
       "\n",
       "    .dataframe tbody tr th {\n",
       "        vertical-align: top;\n",
       "    }\n",
       "\n",
       "    .dataframe thead th {\n",
       "        text-align: right;\n",
       "    }\n",
       "</style>\n",
       "<table border=\"1\" class=\"dataframe\">\n",
       "  <thead>\n",
       "    <tr style=\"text-align: right;\">\n",
       "      <th></th>\n",
       "      <th>SAMPLE_ID</th>\n",
       "      <th>SAMPLE_NAME</th>\n",
       "      <th>PUBCHEM_SID</th>\n",
       "      <th>PRIMARY_MOA</th>\n",
       "      <th>ASSAY_NAME</th>\n",
       "      <th>LIBRARY</th>\n",
       "      <th>CAS</th>\n",
       "      <th>ALIAS</th>\n",
       "      <th>AC50(uM)</th>\n",
       "      <th>LOG_AC50</th>\n",
       "      <th>...</th>\n",
       "      <th>CONC5(M)</th>\n",
       "      <th>CONC6(M)</th>\n",
       "      <th>CONC7(M)</th>\n",
       "      <th>CONC8(M)</th>\n",
       "      <th>CONC9(M)</th>\n",
       "      <th>CONC10(M)</th>\n",
       "      <th>CONC11(M)</th>\n",
       "      <th>CONC12(M)</th>\n",
       "      <th>CONC13(M)</th>\n",
       "      <th>CONC14(M)</th>\n",
       "    </tr>\n",
       "  </thead>\n",
       "  <tbody>\n",
       "    <tr>\n",
       "      <th>0</th>\n",
       "      <td>NCGC00181749-01</td>\n",
       "      <td>Cefminox sodium</td>\n",
       "      <td>144206473.0</td>\n",
       "      <td>Peptidoglycan biosynthesis Inhibitor</td>\n",
       "      <td>Spike-ACE2 protein-protein interaction (AlphaL...</td>\n",
       "      <td>Approved Drugs Collection (NPC)</td>\n",
       "      <td>75498-96-3</td>\n",
       "      <td>Cefminox; Tencef; Meicelin; Alteporina;</td>\n",
       "      <td>NaN</td>\n",
       "      <td>NaN</td>\n",
       "      <td>...</td>\n",
       "      <td>0.000011</td>\n",
       "      <td>0.000057</td>\n",
       "      <td>NaN</td>\n",
       "      <td>NaN</td>\n",
       "      <td>NaN</td>\n",
       "      <td>NaN</td>\n",
       "      <td>NaN</td>\n",
       "      <td>NaN</td>\n",
       "      <td>NaN</td>\n",
       "      <td>NaN</td>\n",
       "    </tr>\n",
       "    <tr>\n",
       "      <th>1</th>\n",
       "      <td>NCGC00167506-04</td>\n",
       "      <td>Pimecrolimus</td>\n",
       "      <td>405558652.0</td>\n",
       "      <td>Macrolide Antibiotic</td>\n",
       "      <td>Spike-ACE2 protein-protein interaction (AlphaL...</td>\n",
       "      <td>Approved Drugs Collection (NPC)</td>\n",
       "      <td>137071-32-0</td>\n",
       "      <td>NaN</td>\n",
       "      <td>10.621291</td>\n",
       "      <td>-4.973823</td>\n",
       "      <td>...</td>\n",
       "      <td>0.000011</td>\n",
       "      <td>0.000057</td>\n",
       "      <td>NaN</td>\n",
       "      <td>NaN</td>\n",
       "      <td>NaN</td>\n",
       "      <td>NaN</td>\n",
       "      <td>NaN</td>\n",
       "      <td>NaN</td>\n",
       "      <td>NaN</td>\n",
       "      <td>NaN</td>\n",
       "    </tr>\n",
       "    <tr>\n",
       "      <th>2</th>\n",
       "      <td>NCGC00165825-02</td>\n",
       "      <td>Milnacipran hydrochloride</td>\n",
       "      <td>225144261.0</td>\n",
       "      <td>Serotonin transporter Inhibitor</td>\n",
       "      <td>Spike-ACE2 protein-protein interaction (AlphaL...</td>\n",
       "      <td>Approved Drugs Collection (NPC)</td>\n",
       "      <td>101152-94-7</td>\n",
       "      <td>NaN</td>\n",
       "      <td>NaN</td>\n",
       "      <td>NaN</td>\n",
       "      <td>...</td>\n",
       "      <td>0.000011</td>\n",
       "      <td>0.000057</td>\n",
       "      <td>NaN</td>\n",
       "      <td>NaN</td>\n",
       "      <td>NaN</td>\n",
       "      <td>NaN</td>\n",
       "      <td>NaN</td>\n",
       "      <td>NaN</td>\n",
       "      <td>NaN</td>\n",
       "      <td>NaN</td>\n",
       "    </tr>\n",
       "    <tr>\n",
       "      <th>3</th>\n",
       "      <td>NCGC00182029-01</td>\n",
       "      <td>Fosfluconazole</td>\n",
       "      <td>144206487.0</td>\n",
       "      <td>Cytochrome P450 51 Inhibitor</td>\n",
       "      <td>Spike-ACE2 protein-protein interaction (AlphaL...</td>\n",
       "      <td>Approved Drugs Collection (NPC)</td>\n",
       "      <td>194798-83-9</td>\n",
       "      <td>Fosfluconazole; Prodif;</td>\n",
       "      <td>NaN</td>\n",
       "      <td>NaN</td>\n",
       "      <td>...</td>\n",
       "      <td>0.000011</td>\n",
       "      <td>0.000057</td>\n",
       "      <td>NaN</td>\n",
       "      <td>NaN</td>\n",
       "      <td>NaN</td>\n",
       "      <td>NaN</td>\n",
       "      <td>NaN</td>\n",
       "      <td>NaN</td>\n",
       "      <td>NaN</td>\n",
       "      <td>NaN</td>\n",
       "    </tr>\n",
       "    <tr>\n",
       "      <th>4</th>\n",
       "      <td>NCGC00167559-01</td>\n",
       "      <td>Androstenone</td>\n",
       "      <td>144206107.0</td>\n",
       "      <td>NaN</td>\n",
       "      <td>Spike-ACE2 protein-protein interaction (AlphaL...</td>\n",
       "      <td>Approved Drugs Collection (NPC)</td>\n",
       "      <td>18339-16-7</td>\n",
       "      <td>5A-ANDROSTA-16-ENE-3-ONE; Androstenone;</td>\n",
       "      <td>NaN</td>\n",
       "      <td>NaN</td>\n",
       "      <td>...</td>\n",
       "      <td>0.000011</td>\n",
       "      <td>0.000057</td>\n",
       "      <td>NaN</td>\n",
       "      <td>NaN</td>\n",
       "      <td>NaN</td>\n",
       "      <td>NaN</td>\n",
       "      <td>NaN</td>\n",
       "      <td>NaN</td>\n",
       "      <td>NaN</td>\n",
       "      <td>NaN</td>\n",
       "    </tr>\n",
       "  </tbody>\n",
       "</table>\n",
       "<p>5 rows × 53 columns</p>\n",
       "</div>"
      ],
      "text/plain": [
       "         SAMPLE_ID                SAMPLE_NAME  PUBCHEM_SID  \\\n",
       "0  NCGC00181749-01            Cefminox sodium  144206473.0   \n",
       "1  NCGC00167506-04               Pimecrolimus  405558652.0   \n",
       "2  NCGC00165825-02  Milnacipran hydrochloride  225144261.0   \n",
       "3  NCGC00182029-01             Fosfluconazole  144206487.0   \n",
       "4  NCGC00167559-01               Androstenone  144206107.0   \n",
       "\n",
       "                            PRIMARY_MOA  \\\n",
       "0  Peptidoglycan biosynthesis Inhibitor   \n",
       "1                  Macrolide Antibiotic   \n",
       "2       Serotonin transporter Inhibitor   \n",
       "3          Cytochrome P450 51 Inhibitor   \n",
       "4                                   NaN   \n",
       "\n",
       "                                          ASSAY_NAME  \\\n",
       "0  Spike-ACE2 protein-protein interaction (AlphaL...   \n",
       "1  Spike-ACE2 protein-protein interaction (AlphaL...   \n",
       "2  Spike-ACE2 protein-protein interaction (AlphaL...   \n",
       "3  Spike-ACE2 protein-protein interaction (AlphaL...   \n",
       "4  Spike-ACE2 protein-protein interaction (AlphaL...   \n",
       "\n",
       "                           LIBRARY          CAS  \\\n",
       "0  Approved Drugs Collection (NPC)   75498-96-3   \n",
       "1  Approved Drugs Collection (NPC)  137071-32-0   \n",
       "2  Approved Drugs Collection (NPC)  101152-94-7   \n",
       "3  Approved Drugs Collection (NPC)  194798-83-9   \n",
       "4  Approved Drugs Collection (NPC)   18339-16-7   \n",
       "\n",
       "                                      ALIAS   AC50(uM)  LOG_AC50  ...  \\\n",
       "0  Cefminox; Tencef; Meicelin; Alteporina;         NaN       NaN  ...   \n",
       "1                                       NaN  10.621291 -4.973823  ...   \n",
       "2                                       NaN        NaN       NaN  ...   \n",
       "3                  Fosfluconazole; Prodif;         NaN       NaN  ...   \n",
       "4  5A-ANDROSTA-16-ENE-3-ONE; Androstenone;         NaN       NaN  ...   \n",
       "\n",
       "   CONC5(M)  CONC6(M)  CONC7(M) CONC8(M)  CONC9(M)  CONC10(M)  CONC11(M)  \\\n",
       "0  0.000011  0.000057       NaN      NaN       NaN        NaN        NaN   \n",
       "1  0.000011  0.000057       NaN      NaN       NaN        NaN        NaN   \n",
       "2  0.000011  0.000057       NaN      NaN       NaN        NaN        NaN   \n",
       "3  0.000011  0.000057       NaN      NaN       NaN        NaN        NaN   \n",
       "4  0.000011  0.000057       NaN      NaN       NaN        NaN        NaN   \n",
       "\n",
       "   CONC12(M)  CONC13(M) CONC14(M)  \n",
       "0        NaN        NaN       NaN  \n",
       "1        NaN        NaN       NaN  \n",
       "2        NaN        NaN       NaN  \n",
       "3        NaN        NaN       NaN  \n",
       "4        NaN        NaN       NaN  \n",
       "\n",
       "[5 rows x 53 columns]"
      ]
     },
     "execution_count": 2,
     "metadata": {},
     "output_type": "execute_result"
    }
   ],
   "source": [
    "raw_data = pd.read_csv(\n",
    "    \"data/Spike-ACE2_protein-protein_interaction_AlphaLISA.tsv\", sep=\"\\t\"\n",
    ")\n",
    "raw_data.head()"
   ]
  },
  {
   "cell_type": "code",
   "execution_count": 3,
   "metadata": {},
   "outputs": [
    {
     "data": {
      "text/plain": [
       "(3406, 53)"
      ]
     },
     "execution_count": 3,
     "metadata": {},
     "output_type": "execute_result"
    }
   ],
   "source": [
    "raw_data.shape"
   ]
  },
  {
   "cell_type": "code",
   "execution_count": 4,
   "metadata": {},
   "outputs": [
    {
     "data": {
      "text/plain": [
       "SAMPLE_ID          0\n",
       "SAMPLE_NAME        1\n",
       "PUBCHEM_SID      518\n",
       "PRIMARY_MOA     1126\n",
       "ASSAY_NAME         0\n",
       "LIBRARY            0\n",
       "CAS              230\n",
       "ALIAS           2659\n",
       "AC50(uM)        2366\n",
       "LOG_AC50        2366\n",
       "AUC                0\n",
       "CURVE_CLASS2       0\n",
       "DATA_POINTS        0\n",
       "DRUG_NAME       3094\n",
       "EFFICACY           0\n",
       "MAX_RESPONSE       0\n",
       "P_HILL          1418\n",
       "R2              1418\n",
       "GENE_ID         2952\n",
       "GENE_SYMBOL     2441\n",
       "SMILES             0\n",
       "SUPPLIER           0\n",
       "SUPPLIER_ID        6\n",
       "DATA0              0\n",
       "DATA1              0\n",
       "DATA2              0\n",
       "DATA3              0\n",
       "DATA4              0\n",
       "DATA5              0\n",
       "DATA6              0\n",
       "DATA7           3406\n",
       "DATA8           3406\n",
       "DATA9           3406\n",
       "DATA10          3406\n",
       "DATA11          3406\n",
       "DATA12          3406\n",
       "DATA13          3406\n",
       "DATA14          3406\n",
       "CONC0(M)           0\n",
       "CONC1(M)           0\n",
       "CONC2(M)           0\n",
       "CONC3(M)           0\n",
       "CONC4(M)           0\n",
       "CONC5(M)           0\n",
       "CONC6(M)           0\n",
       "CONC7(M)        3406\n",
       "CONC8(M)        3406\n",
       "CONC9(M)        3406\n",
       "CONC10(M)       3406\n",
       "CONC11(M)       3406\n",
       "CONC12(M)       3406\n",
       "CONC13(M)       3406\n",
       "CONC14(M)       3406\n",
       "dtype: int64"
      ]
     },
     "execution_count": 4,
     "metadata": {},
     "output_type": "execute_result"
    }
   ],
   "source": [
    "raw_data.isna().sum()"
   ]
  },
  {
   "cell_type": "code",
   "execution_count": 5,
   "metadata": {},
   "outputs": [],
   "source": [
    "clean_data = raw_data.drop(\n",
    "    columns=[\n",
    "        \"DATA7\",\n",
    "        \"DATA8\",\n",
    "        \"DATA9\",\n",
    "        \"DATA10\",\n",
    "        \"DATA11\",\n",
    "        \"DATA12\",\n",
    "        \"DATA13\",\n",
    "        \"DATA14\",\n",
    "        \"CONC7(M)\",\n",
    "        \"CONC8(M)\",\n",
    "        \"CONC9(M)\",\n",
    "        \"CONC10(M)\",\n",
    "        \"CONC11(M)\",\n",
    "        \"CONC12(M)\",\n",
    "        \"CONC13(M)\",\n",
    "        \"CONC14(M)\",\n",
    "    ]\n",
    ")"
   ]
  },
  {
   "cell_type": "code",
   "execution_count": 6,
   "metadata": {},
   "outputs": [
    {
     "data": {
      "text/html": [
       "<div>\n",
       "<style scoped>\n",
       "    .dataframe tbody tr th:only-of-type {\n",
       "        vertical-align: middle;\n",
       "    }\n",
       "\n",
       "    .dataframe tbody tr th {\n",
       "        vertical-align: top;\n",
       "    }\n",
       "\n",
       "    .dataframe thead th {\n",
       "        text-align: right;\n",
       "    }\n",
       "</style>\n",
       "<table border=\"1\" class=\"dataframe\">\n",
       "  <thead>\n",
       "    <tr style=\"text-align: right;\">\n",
       "      <th></th>\n",
       "      <th>SAMPLE_ID</th>\n",
       "      <th>SAMPLE_NAME</th>\n",
       "      <th>PUBCHEM_SID</th>\n",
       "      <th>PRIMARY_MOA</th>\n",
       "      <th>ASSAY_NAME</th>\n",
       "      <th>LIBRARY</th>\n",
       "      <th>CAS</th>\n",
       "      <th>ALIAS</th>\n",
       "      <th>AC50(uM)</th>\n",
       "      <th>LOG_AC50</th>\n",
       "      <th>...</th>\n",
       "      <th>DATA4</th>\n",
       "      <th>DATA5</th>\n",
       "      <th>DATA6</th>\n",
       "      <th>CONC0(M)</th>\n",
       "      <th>CONC1(M)</th>\n",
       "      <th>CONC2(M)</th>\n",
       "      <th>CONC3(M)</th>\n",
       "      <th>CONC4(M)</th>\n",
       "      <th>CONC5(M)</th>\n",
       "      <th>CONC6(M)</th>\n",
       "    </tr>\n",
       "  </thead>\n",
       "  <tbody>\n",
       "    <tr>\n",
       "      <th>0</th>\n",
       "      <td>NCGC00181749-01</td>\n",
       "      <td>Cefminox sodium</td>\n",
       "      <td>144206473.0</td>\n",
       "      <td>Peptidoglycan biosynthesis Inhibitor</td>\n",
       "      <td>Spike-ACE2 protein-protein interaction (AlphaL...</td>\n",
       "      <td>Approved Drugs Collection (NPC)</td>\n",
       "      <td>75498-96-3</td>\n",
       "      <td>Cefminox; Tencef; Meicelin; Alteporina;</td>\n",
       "      <td>NaN</td>\n",
       "      <td>NaN</td>\n",
       "      <td>...</td>\n",
       "      <td>0.000000</td>\n",
       "      <td>0.0</td>\n",
       "      <td>0.000000</td>\n",
       "      <td>3.660000e-09</td>\n",
       "      <td>1.830000e-08</td>\n",
       "      <td>9.140000e-08</td>\n",
       "      <td>4.570000e-07</td>\n",
       "      <td>0.000002</td>\n",
       "      <td>0.000011</td>\n",
       "      <td>0.000057</td>\n",
       "    </tr>\n",
       "    <tr>\n",
       "      <th>1</th>\n",
       "      <td>NCGC00167506-04</td>\n",
       "      <td>Pimecrolimus</td>\n",
       "      <td>405558652.0</td>\n",
       "      <td>Macrolide Antibiotic</td>\n",
       "      <td>Spike-ACE2 protein-protein interaction (AlphaL...</td>\n",
       "      <td>Approved Drugs Collection (NPC)</td>\n",
       "      <td>137071-32-0</td>\n",
       "      <td>NaN</td>\n",
       "      <td>10.621291</td>\n",
       "      <td>-4.973823</td>\n",
       "      <td>...</td>\n",
       "      <td>-12.106538</td>\n",
       "      <td>-46.3</td>\n",
       "      <td>-78.982672</td>\n",
       "      <td>3.660000e-09</td>\n",
       "      <td>1.830000e-08</td>\n",
       "      <td>9.140000e-08</td>\n",
       "      <td>4.570000e-07</td>\n",
       "      <td>0.000002</td>\n",
       "      <td>0.000011</td>\n",
       "      <td>0.000057</td>\n",
       "    </tr>\n",
       "    <tr>\n",
       "      <th>2</th>\n",
       "      <td>NCGC00165825-02</td>\n",
       "      <td>Milnacipran hydrochloride</td>\n",
       "      <td>225144261.0</td>\n",
       "      <td>Serotonin transporter Inhibitor</td>\n",
       "      <td>Spike-ACE2 protein-protein interaction (AlphaL...</td>\n",
       "      <td>Approved Drugs Collection (NPC)</td>\n",
       "      <td>101152-94-7</td>\n",
       "      <td>NaN</td>\n",
       "      <td>NaN</td>\n",
       "      <td>NaN</td>\n",
       "      <td>...</td>\n",
       "      <td>-3.486683</td>\n",
       "      <td>-8.0</td>\n",
       "      <td>0.000000</td>\n",
       "      <td>3.660000e-09</td>\n",
       "      <td>1.830000e-08</td>\n",
       "      <td>9.140000e-08</td>\n",
       "      <td>4.570000e-07</td>\n",
       "      <td>0.000002</td>\n",
       "      <td>0.000011</td>\n",
       "      <td>0.000057</td>\n",
       "    </tr>\n",
       "    <tr>\n",
       "      <th>3</th>\n",
       "      <td>NCGC00182029-01</td>\n",
       "      <td>Fosfluconazole</td>\n",
       "      <td>144206487.0</td>\n",
       "      <td>Cytochrome P450 51 Inhibitor</td>\n",
       "      <td>Spike-ACE2 protein-protein interaction (AlphaL...</td>\n",
       "      <td>Approved Drugs Collection (NPC)</td>\n",
       "      <td>194798-83-9</td>\n",
       "      <td>Fosfluconazole; Prodif;</td>\n",
       "      <td>NaN</td>\n",
       "      <td>NaN</td>\n",
       "      <td>...</td>\n",
       "      <td>-2.130751</td>\n",
       "      <td>-7.9</td>\n",
       "      <td>0.000000</td>\n",
       "      <td>3.660000e-09</td>\n",
       "      <td>1.830000e-08</td>\n",
       "      <td>9.140000e-08</td>\n",
       "      <td>4.570000e-07</td>\n",
       "      <td>0.000002</td>\n",
       "      <td>0.000011</td>\n",
       "      <td>0.000057</td>\n",
       "    </tr>\n",
       "    <tr>\n",
       "      <th>4</th>\n",
       "      <td>NCGC00167559-01</td>\n",
       "      <td>Androstenone</td>\n",
       "      <td>144206107.0</td>\n",
       "      <td>NaN</td>\n",
       "      <td>Spike-ACE2 protein-protein interaction (AlphaL...</td>\n",
       "      <td>Approved Drugs Collection (NPC)</td>\n",
       "      <td>18339-16-7</td>\n",
       "      <td>5A-ANDROSTA-16-ENE-3-ONE; Androstenone;</td>\n",
       "      <td>NaN</td>\n",
       "      <td>NaN</td>\n",
       "      <td>...</td>\n",
       "      <td>0.000000</td>\n",
       "      <td>0.0</td>\n",
       "      <td>0.000000</td>\n",
       "      <td>3.660000e-09</td>\n",
       "      <td>1.830000e-08</td>\n",
       "      <td>9.140000e-08</td>\n",
       "      <td>4.570000e-07</td>\n",
       "      <td>0.000002</td>\n",
       "      <td>0.000011</td>\n",
       "      <td>0.000057</td>\n",
       "    </tr>\n",
       "  </tbody>\n",
       "</table>\n",
       "<p>5 rows × 37 columns</p>\n",
       "</div>"
      ],
      "text/plain": [
       "         SAMPLE_ID                SAMPLE_NAME  PUBCHEM_SID  \\\n",
       "0  NCGC00181749-01            Cefminox sodium  144206473.0   \n",
       "1  NCGC00167506-04               Pimecrolimus  405558652.0   \n",
       "2  NCGC00165825-02  Milnacipran hydrochloride  225144261.0   \n",
       "3  NCGC00182029-01             Fosfluconazole  144206487.0   \n",
       "4  NCGC00167559-01               Androstenone  144206107.0   \n",
       "\n",
       "                            PRIMARY_MOA  \\\n",
       "0  Peptidoglycan biosynthesis Inhibitor   \n",
       "1                  Macrolide Antibiotic   \n",
       "2       Serotonin transporter Inhibitor   \n",
       "3          Cytochrome P450 51 Inhibitor   \n",
       "4                                   NaN   \n",
       "\n",
       "                                          ASSAY_NAME  \\\n",
       "0  Spike-ACE2 protein-protein interaction (AlphaL...   \n",
       "1  Spike-ACE2 protein-protein interaction (AlphaL...   \n",
       "2  Spike-ACE2 protein-protein interaction (AlphaL...   \n",
       "3  Spike-ACE2 protein-protein interaction (AlphaL...   \n",
       "4  Spike-ACE2 protein-protein interaction (AlphaL...   \n",
       "\n",
       "                           LIBRARY          CAS  \\\n",
       "0  Approved Drugs Collection (NPC)   75498-96-3   \n",
       "1  Approved Drugs Collection (NPC)  137071-32-0   \n",
       "2  Approved Drugs Collection (NPC)  101152-94-7   \n",
       "3  Approved Drugs Collection (NPC)  194798-83-9   \n",
       "4  Approved Drugs Collection (NPC)   18339-16-7   \n",
       "\n",
       "                                      ALIAS   AC50(uM)  LOG_AC50  ...  \\\n",
       "0  Cefminox; Tencef; Meicelin; Alteporina;         NaN       NaN  ...   \n",
       "1                                       NaN  10.621291 -4.973823  ...   \n",
       "2                                       NaN        NaN       NaN  ...   \n",
       "3                  Fosfluconazole; Prodif;         NaN       NaN  ...   \n",
       "4  5A-ANDROSTA-16-ENE-3-ONE; Androstenone;         NaN       NaN  ...   \n",
       "\n",
       "       DATA4  DATA5      DATA6      CONC0(M)      CONC1(M)      CONC2(M)  \\\n",
       "0   0.000000    0.0   0.000000  3.660000e-09  1.830000e-08  9.140000e-08   \n",
       "1 -12.106538  -46.3 -78.982672  3.660000e-09  1.830000e-08  9.140000e-08   \n",
       "2  -3.486683   -8.0   0.000000  3.660000e-09  1.830000e-08  9.140000e-08   \n",
       "3  -2.130751   -7.9   0.000000  3.660000e-09  1.830000e-08  9.140000e-08   \n",
       "4   0.000000    0.0   0.000000  3.660000e-09  1.830000e-08  9.140000e-08   \n",
       "\n",
       "       CONC3(M)  CONC4(M)  CONC5(M)  CONC6(M)  \n",
       "0  4.570000e-07  0.000002  0.000011  0.000057  \n",
       "1  4.570000e-07  0.000002  0.000011  0.000057  \n",
       "2  4.570000e-07  0.000002  0.000011  0.000057  \n",
       "3  4.570000e-07  0.000002  0.000011  0.000057  \n",
       "4  4.570000e-07  0.000002  0.000011  0.000057  \n",
       "\n",
       "[5 rows x 37 columns]"
      ]
     },
     "execution_count": 6,
     "metadata": {},
     "output_type": "execute_result"
    }
   ],
   "source": [
    "clean_data.head()"
   ]
  },
  {
   "cell_type": "code",
   "execution_count": 7,
   "metadata": {},
   "outputs": [
    {
     "data": {
      "text/plain": [
       "SAMPLE_ID                                         NCGC00182551-01\n",
       "SAMPLE_NAME                                             Cythioate\n",
       "PUBCHEM_SID                                           1.44207e+08\n",
       "PRIMARY_MOA     Acetylcholinesterase and butyrylcholinesterase...\n",
       "ASSAY_NAME      Spike-ACE2 protein-protein interaction (AlphaL...\n",
       "LIBRARY                           Approved Drugs Collection (NPC)\n",
       "CAS                                                      115-93-5\n",
       "ALIAS                                         Cythioate; Cyflee; \n",
       "AC50(uM)                                                      NaN\n",
       "LOG_AC50                                                      NaN\n",
       "AUC                                                      -11.7052\n",
       "CURVE_CLASS2                                                    4\n",
       "DATA_POINTS                                                     7\n",
       "DRUG_NAME       Cyflee;CIPLUS_151430;CYTHIOATE;Cythioate;cythi...\n",
       "EFFICACY                                                    -10.8\n",
       "MAX_RESPONSE                                              2.51537\n",
       "P_HILL                                                   0.512358\n",
       "R2                                                       0.439168\n",
       "GENE_ID                                                       NaN\n",
       "GENE_SYMBOL                                                   NaN\n",
       "SMILES                           O=S(N)(=O)c1ccc(OP(=S)(OC)OC)cc1\n",
       "SUPPLIER                                                   Chemos\n",
       "SUPPLIER_ID                                                 10702\n",
       "DATA0                                                    -10.2604\n",
       "DATA1                                                     1.93655\n",
       "DATA2                                                     4.33616\n",
       "DATA3                                                     1.44144\n",
       "DATA4                                                    -5.32688\n",
       "DATA5                                                       -11.5\n",
       "DATA6                                                     2.51537\n",
       "CONC0(M)                                                 3.66e-09\n",
       "CONC1(M)                                                 1.83e-08\n",
       "CONC2(M)                                                 9.14e-08\n",
       "CONC3(M)                                                 4.57e-07\n",
       "CONC4(M)                                                 2.29e-06\n",
       "CONC5(M)                                                 1.14e-05\n",
       "CONC6(M)                                                 5.71e-05\n",
       "Name: 10, dtype: object"
      ]
     },
     "execution_count": 7,
     "metadata": {},
     "output_type": "execute_result"
    }
   ],
   "source": [
    "clean_data.iloc[10]"
   ]
  },
  {
   "cell_type": "code",
   "execution_count": 8,
   "metadata": {},
   "outputs": [],
   "source": [
    "df = clean_data[[\"SAMPLE_ID\", \"SMILES\", \"EFFICACY\"]]"
   ]
  },
  {
   "cell_type": "code",
   "execution_count": 9,
   "metadata": {},
   "outputs": [],
   "source": [
    "def get_mols(row):\n",
    "    try:\n",
    "        mol = rdkit.Chem.MolFromSmiles(row[\"SMILES\"])\n",
    "        return mol\n",
    "    except:\n",
    "        return np.nan"
   ]
  },
  {
   "cell_type": "code",
   "execution_count": 10,
   "metadata": {},
   "outputs": [
    {
     "name": "stderr",
     "output_type": "stream",
     "text": [
      "C:\\Users\\ASUS\\Anaconda3\\lib\\site-packages\\ipykernel_launcher.py:1: SettingWithCopyWarning: \n",
      "A value is trying to be set on a copy of a slice from a DataFrame.\n",
      "Try using .loc[row_indexer,col_indexer] = value instead\n",
      "\n",
      "See the caveats in the documentation: https://pandas.pydata.org/pandas-docs/stable/user_guide/indexing.html#returning-a-view-versus-a-copy\n",
      "  \"\"\"Entry point for launching an IPython kernel.\n"
     ]
    }
   ],
   "source": [
    "df[\"mols\"] = df.apply(get_mols, axis=1)"
   ]
  },
  {
   "cell_type": "code",
   "execution_count": 11,
   "metadata": {},
   "outputs": [],
   "source": [
    "clean_df = df.dropna(subset=[\"mols\"])"
   ]
  },
  {
   "cell_type": "code",
   "execution_count": 12,
   "metadata": {},
   "outputs": [
    {
     "name": "stderr",
     "output_type": "stream",
     "text": [
      "  1%|          | 20/3333 [00:07<38:13,  1.44it/s] "
     ]
    },
    {
     "name": "stdout",
     "output_type": "stream",
     "text": [
      "C:\\Users\\ASUS\\Anaconda3\\lib\\site-packages\\numpy\\core\\fromnumeric.py:87: RuntimeWarning: overflow encountered in reduce\n",
      "  return ufunc.reduce(obj, axis, dtype, out, **passkwargs)\n"
     ]
    },
    {
     "name": "stderr",
     "output_type": "stream",
     "text": [
      "  2%|▏         | 83/3333 [00:12<07:33,  7.16it/s]"
     ]
    },
    {
     "name": "stdout",
     "output_type": "stream",
     "text": [
      "C:\\Users\\ASUS\\Anaconda3\\lib\\site-packages\\numpy\\core\\fromnumeric.py:87: RuntimeWarning: overflow encountered in reduce\n",
      "  return ufunc.reduce(obj, axis, dtype, out, **passkwargs)\n"
     ]
    },
    {
     "name": "stderr",
     "output_type": "stream",
     "text": [
      "  4%|▍         | 137/3333 [00:22<15:50,  3.36it/s]"
     ]
    },
    {
     "name": "stdout",
     "output_type": "stream",
     "text": [
      "C:\\Users\\ASUS\\Anaconda3\\lib\\site-packages\\numpy\\core\\fromnumeric.py:87: RuntimeWarning: overflow encountered in reduce\n",
      "  return ufunc.reduce(obj, axis, dtype, out, **passkwargs)\n"
     ]
    },
    {
     "name": "stderr",
     "output_type": "stream",
     "text": [
      "  5%|▌         | 169/3333 [00:28<10:57,  4.81it/s]"
     ]
    },
    {
     "name": "stdout",
     "output_type": "stream",
     "text": [
      "C:\\Users\\ASUS\\Anaconda3\\lib\\site-packages\\numpy\\core\\fromnumeric.py:87: RuntimeWarning: overflow encountered in reduce\n",
      "  return ufunc.reduce(obj, axis, dtype, out, **passkwargs)\n"
     ]
    },
    {
     "name": "stderr",
     "output_type": "stream",
     "text": [
      "100%|██████████| 3333/3333 [09:12<00:00,  6.03it/s]\n"
     ]
    }
   ],
   "source": [
    "# create descriptor calculator with all descriptors\n",
    "calc = Calculator(descriptors, ignore_3D=True)\n",
    "\n",
    "molecules_series = clean_df[\"mols\"]\n",
    "dataset = calc.pandas(molecules_series)"
   ]
  },
  {
   "cell_type": "code",
   "execution_count": 13,
   "metadata": {},
   "outputs": [
    {
     "data": {
      "text/plain": [
       "(3333, 1613)"
      ]
     },
     "execution_count": 13,
     "metadata": {},
     "output_type": "execute_result"
    }
   ],
   "source": [
    "dataset.shape"
   ]
  },
  {
   "cell_type": "code",
   "execution_count": 14,
   "metadata": {},
   "outputs": [
    {
     "data": {
      "text/html": [
       "<div>\n",
       "<style scoped>\n",
       "    .dataframe tbody tr th:only-of-type {\n",
       "        vertical-align: middle;\n",
       "    }\n",
       "\n",
       "    .dataframe tbody tr th {\n",
       "        vertical-align: top;\n",
       "    }\n",
       "\n",
       "    .dataframe thead th {\n",
       "        text-align: right;\n",
       "    }\n",
       "</style>\n",
       "<table border=\"1\" class=\"dataframe\">\n",
       "  <thead>\n",
       "    <tr style=\"text-align: right;\">\n",
       "      <th></th>\n",
       "      <th>ABC</th>\n",
       "      <th>ABCGG</th>\n",
       "      <th>nAcid</th>\n",
       "      <th>nBase</th>\n",
       "      <th>SpAbs_A</th>\n",
       "      <th>SpMax_A</th>\n",
       "      <th>SpDiam_A</th>\n",
       "      <th>SpAD_A</th>\n",
       "      <th>SpMAD_A</th>\n",
       "      <th>LogEE_A</th>\n",
       "      <th>...</th>\n",
       "      <th>SRW10</th>\n",
       "      <th>TSRW10</th>\n",
       "      <th>MW</th>\n",
       "      <th>AMW</th>\n",
       "      <th>WPath</th>\n",
       "      <th>WPol</th>\n",
       "      <th>Zagreb1</th>\n",
       "      <th>Zagreb2</th>\n",
       "      <th>mZagreb1</th>\n",
       "      <th>mZagreb2</th>\n",
       "    </tr>\n",
       "  </thead>\n",
       "  <tbody>\n",
       "    <tr>\n",
       "      <th>0</th>\n",
       "      <td>25.217556</td>\n",
       "      <td>20.924669</td>\n",
       "      <td>4</td>\n",
       "      <td>2</td>\n",
       "      <td>multiple fragments (SpAbs_A/SpAbs)</td>\n",
       "      <td>multiple fragments (SpMax_A/SpMax)</td>\n",
       "      <td>multiple fragments (SpDiam_A/SpDiam)</td>\n",
       "      <td>multiple fragments (SpAD_A/SpAD)</td>\n",
       "      <td>multiple fragments (SpMAD_A/SpMAD)</td>\n",
       "      <td>multiple fragments (LogEE_A/LogEE)</td>\n",
       "      <td>...</td>\n",
       "      <td>10.753446</td>\n",
       "      <td>84.393663</td>\n",
       "      <td>541.048403</td>\n",
       "      <td>10.019415</td>\n",
       "      <td>3300003492</td>\n",
       "      <td>53</td>\n",
       "      <td>172.0</td>\n",
       "      <td>207.0</td>\n",
       "      <td>divide by zero encountered in power (mZagreb1)</td>\n",
       "      <td>7.361111</td>\n",
       "    </tr>\n",
       "    <tr>\n",
       "      <th>1</th>\n",
       "      <td>42.513446</td>\n",
       "      <td>32.175596</td>\n",
       "      <td>0</td>\n",
       "      <td>0</td>\n",
       "      <td>70.314</td>\n",
       "      <td>2.51627</td>\n",
       "      <td>5.03238</td>\n",
       "      <td>70.314</td>\n",
       "      <td>1.25561</td>\n",
       "      <td>4.92973</td>\n",
       "      <td>...</td>\n",
       "      <td>10.972482</td>\n",
       "      <td>94.846111</td>\n",
       "      <td>809.448090</td>\n",
       "      <td>6.527807</td>\n",
       "      <td>12071</td>\n",
       "      <td>104</td>\n",
       "      <td>288.0</td>\n",
       "      <td>342.0</td>\n",
       "      <td>23.0347</td>\n",
       "      <td>12.597222</td>\n",
       "    </tr>\n",
       "    <tr>\n",
       "      <th>2</th>\n",
       "      <td>13.319150</td>\n",
       "      <td>13.380720</td>\n",
       "      <td>0</td>\n",
       "      <td>1</td>\n",
       "      <td>23.1974</td>\n",
       "      <td>2.62977</td>\n",
       "      <td>4.98713</td>\n",
       "      <td>23.1974</td>\n",
       "      <td>1.28875</td>\n",
       "      <td>3.84598</td>\n",
       "      <td>...</td>\n",
       "      <td>10.087433</td>\n",
       "      <td>72.188173</td>\n",
       "      <td>246.173213</td>\n",
       "      <td>6.154330</td>\n",
       "      <td>572</td>\n",
       "      <td>29</td>\n",
       "      <td>92.0</td>\n",
       "      <td>114.0</td>\n",
       "      <td>6.75694</td>\n",
       "      <td>4.319444</td>\n",
       "    </tr>\n",
       "    <tr>\n",
       "      <th>3</th>\n",
       "      <td>20.392476</td>\n",
       "      <td>18.274345</td>\n",
       "      <td>2</td>\n",
       "      <td>0</td>\n",
       "      <td>31.7612</td>\n",
       "      <td>2.49514</td>\n",
       "      <td>4.9777</td>\n",
       "      <td>31.7612</td>\n",
       "      <td>1.22159</td>\n",
       "      <td>4.18823</td>\n",
       "      <td>...</td>\n",
       "      <td>10.203111</td>\n",
       "      <td>76.220112</td>\n",
       "      <td>386.070396</td>\n",
       "      <td>9.899241</td>\n",
       "      <td>1475</td>\n",
       "      <td>36</td>\n",
       "      <td>138.0</td>\n",
       "      <td>159.0</td>\n",
       "      <td>9.18056</td>\n",
       "      <td>5.527778</td>\n",
       "    </tr>\n",
       "    <tr>\n",
       "      <th>4</th>\n",
       "      <td>16.424974</td>\n",
       "      <td>13.265580</td>\n",
       "      <td>0</td>\n",
       "      <td>0</td>\n",
       "      <td>26.2932</td>\n",
       "      <td>2.59403</td>\n",
       "      <td>5.16037</td>\n",
       "      <td>26.2932</td>\n",
       "      <td>1.31466</td>\n",
       "      <td>3.9842</td>\n",
       "      <td>...</td>\n",
       "      <td>10.459870</td>\n",
       "      <td>69.126315</td>\n",
       "      <td>272.214016</td>\n",
       "      <td>5.671125</td>\n",
       "      <td>699</td>\n",
       "      <td>40</td>\n",
       "      <td>120.0</td>\n",
       "      <td>151.0</td>\n",
       "      <td>6.18056</td>\n",
       "      <td>4.097222</td>\n",
       "    </tr>\n",
       "    <tr>\n",
       "      <th>...</th>\n",
       "      <td>...</td>\n",
       "      <td>...</td>\n",
       "      <td>...</td>\n",
       "      <td>...</td>\n",
       "      <td>...</td>\n",
       "      <td>...</td>\n",
       "      <td>...</td>\n",
       "      <td>...</td>\n",
       "      <td>...</td>\n",
       "      <td>...</td>\n",
       "      <td>...</td>\n",
       "      <td>...</td>\n",
       "      <td>...</td>\n",
       "      <td>...</td>\n",
       "      <td>...</td>\n",
       "      <td>...</td>\n",
       "      <td>...</td>\n",
       "      <td>...</td>\n",
       "      <td>...</td>\n",
       "      <td>...</td>\n",
       "      <td>...</td>\n",
       "    </tr>\n",
       "    <tr>\n",
       "      <th>3401</th>\n",
       "      <td>24.098650</td>\n",
       "      <td>17.680148</td>\n",
       "      <td>0</td>\n",
       "      <td>0</td>\n",
       "      <td>41.81</td>\n",
       "      <td>2.4105</td>\n",
       "      <td>4.82101</td>\n",
       "      <td>41.81</td>\n",
       "      <td>1.30656</td>\n",
       "      <td>4.36379</td>\n",
       "      <td>...</td>\n",
       "      <td>10.076558</td>\n",
       "      <td>67.211711</td>\n",
       "      <td>433.211390</td>\n",
       "      <td>7.342566</td>\n",
       "      <td>3677</td>\n",
       "      <td>45</td>\n",
       "      <td>154.0</td>\n",
       "      <td>174.0</td>\n",
       "      <td>9.27778</td>\n",
       "      <td>7.444444</td>\n",
       "    </tr>\n",
       "    <tr>\n",
       "      <th>3402</th>\n",
       "      <td>15.343821</td>\n",
       "      <td>13.549025</td>\n",
       "      <td>0</td>\n",
       "      <td>0</td>\n",
       "      <td>24.2176</td>\n",
       "      <td>2.41884</td>\n",
       "      <td>4.73319</td>\n",
       "      <td>24.2176</td>\n",
       "      <td>1.21088</td>\n",
       "      <td>3.9114</td>\n",
       "      <td>...</td>\n",
       "      <td>9.806591</td>\n",
       "      <td>67.407254</td>\n",
       "      <td>314.983542</td>\n",
       "      <td>11.666057</td>\n",
       "      <td>818</td>\n",
       "      <td>29</td>\n",
       "      <td>102.0</td>\n",
       "      <td>118.0</td>\n",
       "      <td>8.38889</td>\n",
       "      <td>4.361111</td>\n",
       "    </tr>\n",
       "    <tr>\n",
       "      <th>3403</th>\n",
       "      <td>6.542301</td>\n",
       "      <td>7.037090</td>\n",
       "      <td>0</td>\n",
       "      <td>0</td>\n",
       "      <td>11.2527</td>\n",
       "      <td>2.13578</td>\n",
       "      <td>4.27156</td>\n",
       "      <td>11.2527</td>\n",
       "      <td>1.12527</td>\n",
       "      <td>3.12453</td>\n",
       "      <td>...</td>\n",
       "      <td>8.313607</td>\n",
       "      <td>37.579015</td>\n",
       "      <td>143.131014</td>\n",
       "      <td>5.301149</td>\n",
       "      <td>131</td>\n",
       "      <td>10</td>\n",
       "      <td>38.0</td>\n",
       "      <td>39.0</td>\n",
       "      <td>5.22222</td>\n",
       "      <td>2.611111</td>\n",
       "    </tr>\n",
       "    <tr>\n",
       "      <th>3404</th>\n",
       "      <td>14.125824</td>\n",
       "      <td>12.901542</td>\n",
       "      <td>1</td>\n",
       "      <td>0</td>\n",
       "      <td>21.2939</td>\n",
       "      <td>2.53016</td>\n",
       "      <td>4.85647</td>\n",
       "      <td>21.2939</td>\n",
       "      <td>1.183</td>\n",
       "      <td>3.858</td>\n",
       "      <td>...</td>\n",
       "      <td>10.025661</td>\n",
       "      <td>72.018567</td>\n",
       "      <td>288.032000</td>\n",
       "      <td>9.001000</td>\n",
       "      <td>660</td>\n",
       "      <td>24</td>\n",
       "      <td>98.0</td>\n",
       "      <td>115.0</td>\n",
       "      <td>8.06944</td>\n",
       "      <td>3.694444</td>\n",
       "    </tr>\n",
       "    <tr>\n",
       "      <th>3405</th>\n",
       "      <td>20.224619</td>\n",
       "      <td>14.854420</td>\n",
       "      <td>0</td>\n",
       "      <td>5</td>\n",
       "      <td>32.7461</td>\n",
       "      <td>2.39824</td>\n",
       "      <td>4.79648</td>\n",
       "      <td>32.7461</td>\n",
       "      <td>1.25947</td>\n",
       "      <td>4.17875</td>\n",
       "      <td>...</td>\n",
       "      <td>10.081927</td>\n",
       "      <td>60.800486</td>\n",
       "      <td>347.138225</td>\n",
       "      <td>8.072982</td>\n",
       "      <td>1951</td>\n",
       "      <td>39</td>\n",
       "      <td>134.0</td>\n",
       "      <td>154.0</td>\n",
       "      <td>9</td>\n",
       "      <td>5.666667</td>\n",
       "    </tr>\n",
       "  </tbody>\n",
       "</table>\n",
       "<p>3333 rows × 1613 columns</p>\n",
       "</div>"
      ],
      "text/plain": [
       "            ABC      ABCGG  nAcid  nBase                             SpAbs_A  \\\n",
       "0     25.217556  20.924669      4      2  multiple fragments (SpAbs_A/SpAbs)   \n",
       "1     42.513446  32.175596      0      0                              70.314   \n",
       "2     13.319150  13.380720      0      1                             23.1974   \n",
       "3     20.392476  18.274345      2      0                             31.7612   \n",
       "4     16.424974  13.265580      0      0                             26.2932   \n",
       "...         ...        ...    ...    ...                                 ...   \n",
       "3401  24.098650  17.680148      0      0                               41.81   \n",
       "3402  15.343821  13.549025      0      0                             24.2176   \n",
       "3403   6.542301   7.037090      0      0                             11.2527   \n",
       "3404  14.125824  12.901542      1      0                             21.2939   \n",
       "3405  20.224619  14.854420      0      5                             32.7461   \n",
       "\n",
       "                                 SpMax_A  \\\n",
       "0     multiple fragments (SpMax_A/SpMax)   \n",
       "1                                2.51627   \n",
       "2                                2.62977   \n",
       "3                                2.49514   \n",
       "4                                2.59403   \n",
       "...                                  ...   \n",
       "3401                              2.4105   \n",
       "3402                             2.41884   \n",
       "3403                             2.13578   \n",
       "3404                             2.53016   \n",
       "3405                             2.39824   \n",
       "\n",
       "                                  SpDiam_A                            SpAD_A  \\\n",
       "0     multiple fragments (SpDiam_A/SpDiam)  multiple fragments (SpAD_A/SpAD)   \n",
       "1                                  5.03238                            70.314   \n",
       "2                                  4.98713                           23.1974   \n",
       "3                                   4.9777                           31.7612   \n",
       "4                                  5.16037                           26.2932   \n",
       "...                                    ...                               ...   \n",
       "3401                               4.82101                             41.81   \n",
       "3402                               4.73319                           24.2176   \n",
       "3403                               4.27156                           11.2527   \n",
       "3404                               4.85647                           21.2939   \n",
       "3405                               4.79648                           32.7461   \n",
       "\n",
       "                                 SpMAD_A                             LogEE_A  \\\n",
       "0     multiple fragments (SpMAD_A/SpMAD)  multiple fragments (LogEE_A/LogEE)   \n",
       "1                                1.25561                             4.92973   \n",
       "2                                1.28875                             3.84598   \n",
       "3                                1.22159                             4.18823   \n",
       "4                                1.31466                              3.9842   \n",
       "...                                  ...                                 ...   \n",
       "3401                             1.30656                             4.36379   \n",
       "3402                             1.21088                              3.9114   \n",
       "3403                             1.12527                             3.12453   \n",
       "3404                               1.183                               3.858   \n",
       "3405                             1.25947                             4.17875   \n",
       "\n",
       "      ...      SRW10     TSRW10          MW        AMW       WPath WPol  \\\n",
       "0     ...  10.753446  84.393663  541.048403  10.019415  3300003492   53   \n",
       "1     ...  10.972482  94.846111  809.448090   6.527807       12071  104   \n",
       "2     ...  10.087433  72.188173  246.173213   6.154330         572   29   \n",
       "3     ...  10.203111  76.220112  386.070396   9.899241        1475   36   \n",
       "4     ...  10.459870  69.126315  272.214016   5.671125         699   40   \n",
       "...   ...        ...        ...         ...        ...         ...  ...   \n",
       "3401  ...  10.076558  67.211711  433.211390   7.342566        3677   45   \n",
       "3402  ...   9.806591  67.407254  314.983542  11.666057         818   29   \n",
       "3403  ...   8.313607  37.579015  143.131014   5.301149         131   10   \n",
       "3404  ...  10.025661  72.018567  288.032000   9.001000         660   24   \n",
       "3405  ...  10.081927  60.800486  347.138225   8.072982        1951   39   \n",
       "\n",
       "      Zagreb1  Zagreb2                                        mZagreb1  \\\n",
       "0       172.0    207.0  divide by zero encountered in power (mZagreb1)   \n",
       "1       288.0    342.0                                         23.0347   \n",
       "2        92.0    114.0                                         6.75694   \n",
       "3       138.0    159.0                                         9.18056   \n",
       "4       120.0    151.0                                         6.18056   \n",
       "...       ...      ...                                             ...   \n",
       "3401    154.0    174.0                                         9.27778   \n",
       "3402    102.0    118.0                                         8.38889   \n",
       "3403     38.0     39.0                                         5.22222   \n",
       "3404     98.0    115.0                                         8.06944   \n",
       "3405    134.0    154.0                                               9   \n",
       "\n",
       "       mZagreb2  \n",
       "0      7.361111  \n",
       "1     12.597222  \n",
       "2      4.319444  \n",
       "3      5.527778  \n",
       "4      4.097222  \n",
       "...         ...  \n",
       "3401   7.444444  \n",
       "3402   4.361111  \n",
       "3403   2.611111  \n",
       "3404   3.694444  \n",
       "3405   5.666667  \n",
       "\n",
       "[3333 rows x 1613 columns]"
      ]
     },
     "execution_count": 14,
     "metadata": {},
     "output_type": "execute_result"
    }
   ],
   "source": [
    "dataset"
   ]
  },
  {
   "cell_type": "markdown",
   "metadata": {},
   "source": [
    "### EDA"
   ]
  },
  {
   "cell_type": "code",
   "execution_count": 15,
   "metadata": {},
   "outputs": [],
   "source": [
    "thrs = 40\n",
    "y = np.abs(clean_df[\"EFFICACY\"]) > thrs"
   ]
  },
  {
   "cell_type": "code",
   "execution_count": 16,
   "metadata": {},
   "outputs": [],
   "source": [
    "columns_list = dataset.columns"
   ]
  },
  {
   "cell_type": "code",
   "execution_count": 17,
   "metadata": {},
   "outputs": [],
   "source": [
    "full_dataset = dataset.copy()\n",
    "full_dataset[\"y\"] = y"
   ]
  },
  {
   "cell_type": "code",
   "execution_count": 18,
   "metadata": {},
   "outputs": [
    {
     "data": {
      "text/plain": [
       "(array([   0,    2,    5,    7,   10,   11,   14,   31,   34,   36,   38,\n",
       "          42,   63,   66,   72,  117,  120,  124,  130,  140,  143,  153,\n",
       "         205,  208,  227,  355,  357,  359,  364,  388,  463,  465,  466,\n",
       "         470,  495,  547,  566,  772,  783,  798,  931,  938,  943, 1002,\n",
       "        1010, 1343, 1550, 1603, 1692, 1748, 2092, 2133, 2282, 2316, 2347,\n",
       "        2363, 2365, 2444, 2481, 2509, 2625, 2673, 2737, 2753, 2768, 2836,\n",
       "        2902, 2928, 2930, 2952, 3004, 3047, 3116, 3145, 3148, 3156, 3171,\n",
       "        3205, 3239, 3240, 3247, 3249, 3272, 3284, 3285, 3287, 3308, 3309,\n",
       "        3323, 3324, 3326, 3330, 3331, 3332, 3333], dtype=int64),\n",
       " array([838,  39,  67,   4,  40,   2,   4,  21,   5,   3,  36,   4,   3,\n",
       "          2,   2,  36,   5,   1,   2,   3,   1,   1,  36,   4,   3,  31,\n",
       "          4,   4,   4,   4,   4, 175,  17,  15,   2,   4,   2,   2,   2,\n",
       "          2,   2,   1,   1,   1,   2,   2,   2,   1,   2,   1,   2,   2,\n",
       "          1,   1,   2,   1,   1,   2,   1,   1,   2,   2,   2,   1,   1,\n",
       "          2,   2,   1,   1,   2,   2,   2,   2,   2,   2,   1,   2,   2,\n",
       "          2,   2,   4,   2,   2,   2,   2,   2,   2,   2,   2,   2,   2,\n",
       "          2,   4,  12,  74], dtype=int64))"
      ]
     },
     "execution_count": 18,
     "metadata": {},
     "output_type": "execute_result"
    }
   ],
   "source": [
    "np.unique(full_dataset.astype(\"float64\").isna().sum(), return_counts=True)"
   ]
  },
  {
   "cell_type": "code",
   "execution_count": 19,
   "metadata": {},
   "outputs": [],
   "source": [
    "full_nan = full_dataset.astype(\"float64\").isna().sum() == 3333"
   ]
  },
  {
   "cell_type": "code",
   "execution_count": 20,
   "metadata": {},
   "outputs": [],
   "source": [
    "full_nan_list = list(full_nan[full_nan == True].index)"
   ]
  },
  {
   "cell_type": "code",
   "execution_count": 21,
   "metadata": {},
   "outputs": [
    {
     "name": "stdout",
     "output_type": "stream",
     "text": [
      "0                           multiple fragments (SpAbs_Dt)\n",
      "1       module 'networkx' has no attribute 'biconnecte...\n",
      "2       module 'networkx' has no attribute 'biconnecte...\n",
      "3       module 'networkx' has no attribute 'biconnecte...\n",
      "4       module 'networkx' has no attribute 'biconnecte...\n",
      "                              ...                        \n",
      "3401    module 'networkx' has no attribute 'biconnecte...\n",
      "3402    module 'networkx' has no attribute 'biconnecte...\n",
      "3403    module 'networkx' has no attribute 'biconnecte...\n",
      "3404    module 'networkx' has no attribute 'biconnecte...\n",
      "3405    module 'networkx' has no attribute 'biconnecte...\n",
      "Name: SpAbs_Dt, Length: 3333, dtype: object\n",
      "0                           multiple fragments (SpMax_Dt)\n",
      "1       module 'networkx' has no attribute 'biconnecte...\n",
      "2       module 'networkx' has no attribute 'biconnecte...\n",
      "3       module 'networkx' has no attribute 'biconnecte...\n",
      "4       module 'networkx' has no attribute 'biconnecte...\n",
      "                              ...                        \n",
      "3401    module 'networkx' has no attribute 'biconnecte...\n",
      "3402    module 'networkx' has no attribute 'biconnecte...\n",
      "3403    module 'networkx' has no attribute 'biconnecte...\n",
      "3404    module 'networkx' has no attribute 'biconnecte...\n",
      "3405    module 'networkx' has no attribute 'biconnecte...\n",
      "Name: SpMax_Dt, Length: 3333, dtype: object\n",
      "0                          multiple fragments (SpDiam_Dt)\n",
      "1       module 'networkx' has no attribute 'biconnecte...\n",
      "2       module 'networkx' has no attribute 'biconnecte...\n",
      "3       module 'networkx' has no attribute 'biconnecte...\n",
      "4       module 'networkx' has no attribute 'biconnecte...\n",
      "                              ...                        \n",
      "3401    module 'networkx' has no attribute 'biconnecte...\n",
      "3402    module 'networkx' has no attribute 'biconnecte...\n",
      "3403    module 'networkx' has no attribute 'biconnecte...\n",
      "3404    module 'networkx' has no attribute 'biconnecte...\n",
      "3405    module 'networkx' has no attribute 'biconnecte...\n",
      "Name: SpDiam_Dt, Length: 3333, dtype: object\n",
      "0                            multiple fragments (SpAD_Dt)\n",
      "1       module 'networkx' has no attribute 'biconnecte...\n",
      "2       module 'networkx' has no attribute 'biconnecte...\n",
      "3       module 'networkx' has no attribute 'biconnecte...\n",
      "4       module 'networkx' has no attribute 'biconnecte...\n",
      "                              ...                        \n",
      "3401    module 'networkx' has no attribute 'biconnecte...\n",
      "3402    module 'networkx' has no attribute 'biconnecte...\n",
      "3403    module 'networkx' has no attribute 'biconnecte...\n",
      "3404    module 'networkx' has no attribute 'biconnecte...\n",
      "3405    module 'networkx' has no attribute 'biconnecte...\n",
      "Name: SpAD_Dt, Length: 3333, dtype: object\n",
      "0                           multiple fragments (SpMAD_Dt)\n",
      "1       module 'networkx' has no attribute 'biconnecte...\n",
      "2       module 'networkx' has no attribute 'biconnecte...\n",
      "3       module 'networkx' has no attribute 'biconnecte...\n",
      "4       module 'networkx' has no attribute 'biconnecte...\n",
      "                              ...                        \n",
      "3401    module 'networkx' has no attribute 'biconnecte...\n",
      "3402    module 'networkx' has no attribute 'biconnecte...\n",
      "3403    module 'networkx' has no attribute 'biconnecte...\n",
      "3404    module 'networkx' has no attribute 'biconnecte...\n",
      "3405    module 'networkx' has no attribute 'biconnecte...\n",
      "Name: SpMAD_Dt, Length: 3333, dtype: object\n",
      "0                           multiple fragments (LogEE_Dt)\n",
      "1       module 'networkx' has no attribute 'biconnecte...\n",
      "2       module 'networkx' has no attribute 'biconnecte...\n",
      "3       module 'networkx' has no attribute 'biconnecte...\n",
      "4       module 'networkx' has no attribute 'biconnecte...\n",
      "                              ...                        \n",
      "3401    module 'networkx' has no attribute 'biconnecte...\n",
      "3402    module 'networkx' has no attribute 'biconnecte...\n",
      "3403    module 'networkx' has no attribute 'biconnecte...\n",
      "3404    module 'networkx' has no attribute 'biconnecte...\n",
      "3405    module 'networkx' has no attribute 'biconnecte...\n",
      "Name: LogEE_Dt, Length: 3333, dtype: object\n",
      "0                             multiple fragments (SM1_Dt)\n",
      "1       module 'networkx' has no attribute 'biconnecte...\n",
      "2       module 'networkx' has no attribute 'biconnecte...\n",
      "3       module 'networkx' has no attribute 'biconnecte...\n",
      "4       module 'networkx' has no attribute 'biconnecte...\n",
      "                              ...                        \n",
      "3401    module 'networkx' has no attribute 'biconnecte...\n",
      "3402    module 'networkx' has no attribute 'biconnecte...\n",
      "3403    module 'networkx' has no attribute 'biconnecte...\n",
      "3404    module 'networkx' has no attribute 'biconnecte...\n",
      "3405    module 'networkx' has no attribute 'biconnecte...\n",
      "Name: SM1_Dt, Length: 3333, dtype: object\n",
      "0                             multiple fragments (VE1_Dt)\n",
      "1       module 'networkx' has no attribute 'biconnecte...\n",
      "2       module 'networkx' has no attribute 'biconnecte...\n",
      "3       module 'networkx' has no attribute 'biconnecte...\n",
      "4       module 'networkx' has no attribute 'biconnecte...\n",
      "                              ...                        \n",
      "3401    module 'networkx' has no attribute 'biconnecte...\n",
      "3402    module 'networkx' has no attribute 'biconnecte...\n",
      "3403    module 'networkx' has no attribute 'biconnecte...\n",
      "3404    module 'networkx' has no attribute 'biconnecte...\n",
      "3405    module 'networkx' has no attribute 'biconnecte...\n",
      "Name: VE1_Dt, Length: 3333, dtype: object\n",
      "0                             multiple fragments (VE2_Dt)\n",
      "1       module 'networkx' has no attribute 'biconnecte...\n",
      "2       module 'networkx' has no attribute 'biconnecte...\n",
      "3       module 'networkx' has no attribute 'biconnecte...\n",
      "4       module 'networkx' has no attribute 'biconnecte...\n",
      "                              ...                        \n",
      "3401    module 'networkx' has no attribute 'biconnecte...\n",
      "3402    module 'networkx' has no attribute 'biconnecte...\n",
      "3403    module 'networkx' has no attribute 'biconnecte...\n",
      "3404    module 'networkx' has no attribute 'biconnecte...\n",
      "3405    module 'networkx' has no attribute 'biconnecte...\n",
      "Name: VE2_Dt, Length: 3333, dtype: object\n",
      "0                             multiple fragments (VE3_Dt)\n",
      "1       module 'networkx' has no attribute 'biconnecte...\n",
      "2       module 'networkx' has no attribute 'biconnecte...\n",
      "3       module 'networkx' has no attribute 'biconnecte...\n",
      "4       module 'networkx' has no attribute 'biconnecte...\n",
      "                              ...                        \n",
      "3401    module 'networkx' has no attribute 'biconnecte...\n",
      "3402    module 'networkx' has no attribute 'biconnecte...\n",
      "3403    module 'networkx' has no attribute 'biconnecte...\n",
      "3404    module 'networkx' has no attribute 'biconnecte...\n",
      "3405    module 'networkx' has no attribute 'biconnecte...\n",
      "Name: VE3_Dt, Length: 3333, dtype: object\n",
      "0                             multiple fragments (VR1_Dt)\n",
      "1       module 'networkx' has no attribute 'biconnecte...\n",
      "2       module 'networkx' has no attribute 'biconnecte...\n",
      "3       module 'networkx' has no attribute 'biconnecte...\n",
      "4       module 'networkx' has no attribute 'biconnecte...\n",
      "                              ...                        \n",
      "3401    module 'networkx' has no attribute 'biconnecte...\n",
      "3402    module 'networkx' has no attribute 'biconnecte...\n",
      "3403    module 'networkx' has no attribute 'biconnecte...\n",
      "3404    module 'networkx' has no attribute 'biconnecte...\n",
      "3405    module 'networkx' has no attribute 'biconnecte...\n",
      "Name: VR1_Dt, Length: 3333, dtype: object\n",
      "0                             multiple fragments (VR2_Dt)\n",
      "1       module 'networkx' has no attribute 'biconnecte...\n",
      "2       module 'networkx' has no attribute 'biconnecte...\n",
      "3       module 'networkx' has no attribute 'biconnecte...\n",
      "4       module 'networkx' has no attribute 'biconnecte...\n",
      "                              ...                        \n",
      "3401    module 'networkx' has no attribute 'biconnecte...\n",
      "3402    module 'networkx' has no attribute 'biconnecte...\n",
      "3403    module 'networkx' has no attribute 'biconnecte...\n",
      "3404    module 'networkx' has no attribute 'biconnecte...\n",
      "3405    module 'networkx' has no attribute 'biconnecte...\n",
      "Name: VR2_Dt, Length: 3333, dtype: object\n",
      "0                             multiple fragments (VR3_Dt)\n",
      "1       module 'networkx' has no attribute 'biconnecte...\n",
      "2       module 'networkx' has no attribute 'biconnecte...\n",
      "3       module 'networkx' has no attribute 'biconnecte...\n",
      "4       module 'networkx' has no attribute 'biconnecte...\n",
      "                              ...                        \n",
      "3401    module 'networkx' has no attribute 'biconnecte...\n",
      "3402    module 'networkx' has no attribute 'biconnecte...\n",
      "3403    module 'networkx' has no attribute 'biconnecte...\n",
      "3404    module 'networkx' has no attribute 'biconnecte...\n",
      "3405    module 'networkx' has no attribute 'biconnecte...\n",
      "Name: VR3_Dt, Length: 3333, dtype: object\n",
      "0                        multiple fragments (DetourIndex)\n",
      "1       module 'networkx' has no attribute 'biconnecte...\n",
      "2       module 'networkx' has no attribute 'biconnecte...\n",
      "3       module 'networkx' has no attribute 'biconnecte...\n",
      "4       module 'networkx' has no attribute 'biconnecte...\n",
      "                              ...                        \n",
      "3401    module 'networkx' has no attribute 'biconnecte...\n",
      "3402    module 'networkx' has no attribute 'biconnecte...\n",
      "3403    module 'networkx' has no attribute 'biconnecte...\n",
      "3404    module 'networkx' has no attribute 'biconnecte...\n",
      "3405    module 'networkx' has no attribute 'biconnecte...\n",
      "Name: DetourIndex, Length: 3333, dtype: object\n",
      "0       max() arg is an empty sequence (MAXsLi)\n",
      "1       max() arg is an empty sequence (MAXsLi)\n",
      "2       max() arg is an empty sequence (MAXsLi)\n",
      "3       max() arg is an empty sequence (MAXsLi)\n",
      "4       max() arg is an empty sequence (MAXsLi)\n",
      "                         ...                   \n",
      "3401    max() arg is an empty sequence (MAXsLi)\n",
      "3402    max() arg is an empty sequence (MAXsLi)\n",
      "3403    max() arg is an empty sequence (MAXsLi)\n",
      "3404    max() arg is an empty sequence (MAXsLi)\n",
      "3405    max() arg is an empty sequence (MAXsLi)\n",
      "Name: MAXsLi, Length: 3333, dtype: object\n",
      "0       max() arg is an empty sequence (MAXssBe)\n",
      "1       max() arg is an empty sequence (MAXssBe)\n",
      "2       max() arg is an empty sequence (MAXssBe)\n",
      "3       max() arg is an empty sequence (MAXssBe)\n",
      "4       max() arg is an empty sequence (MAXssBe)\n",
      "                          ...                   \n",
      "3401    max() arg is an empty sequence (MAXssBe)\n",
      "3402    max() arg is an empty sequence (MAXssBe)\n",
      "3403    max() arg is an empty sequence (MAXssBe)\n",
      "3404    max() arg is an empty sequence (MAXssBe)\n",
      "3405    max() arg is an empty sequence (MAXssBe)\n",
      "Name: MAXssBe, Length: 3333, dtype: object\n",
      "0       max() arg is an empty sequence (MAXssssBe)\n",
      "1       max() arg is an empty sequence (MAXssssBe)\n",
      "2       max() arg is an empty sequence (MAXssssBe)\n",
      "3       max() arg is an empty sequence (MAXssssBe)\n",
      "4       max() arg is an empty sequence (MAXssssBe)\n",
      "                           ...                    \n",
      "3401    max() arg is an empty sequence (MAXssssBe)\n",
      "3402    max() arg is an empty sequence (MAXssssBe)\n",
      "3403    max() arg is an empty sequence (MAXssssBe)\n",
      "3404    max() arg is an empty sequence (MAXssssBe)\n",
      "3405    max() arg is an empty sequence (MAXssssBe)\n",
      "Name: MAXssssBe, Length: 3333, dtype: object\n",
      "0       max() arg is an empty sequence (MAXssBH)\n",
      "1       max() arg is an empty sequence (MAXssBH)\n",
      "2       max() arg is an empty sequence (MAXssBH)\n",
      "3       max() arg is an empty sequence (MAXssBH)\n",
      "4       max() arg is an empty sequence (MAXssBH)\n",
      "                          ...                   \n",
      "3401    max() arg is an empty sequence (MAXssBH)\n",
      "3402    max() arg is an empty sequence (MAXssBH)\n",
      "3403    max() arg is an empty sequence (MAXssBH)\n",
      "3404    max() arg is an empty sequence (MAXssBH)\n",
      "3405    max() arg is an empty sequence (MAXssBH)\n"
     ]
    },
    {
     "name": "stdout",
     "output_type": "stream",
     "text": [
      "Name: MAXssBH, Length: 3333, dtype: object\n",
      "0       max() arg is an empty sequence (MAXssssB)\n",
      "1       max() arg is an empty sequence (MAXssssB)\n",
      "2       max() arg is an empty sequence (MAXssssB)\n",
      "3       max() arg is an empty sequence (MAXssssB)\n",
      "4       max() arg is an empty sequence (MAXssssB)\n",
      "                          ...                    \n",
      "3401    max() arg is an empty sequence (MAXssssB)\n",
      "3402    max() arg is an empty sequence (MAXssssB)\n",
      "3403    max() arg is an empty sequence (MAXssssB)\n",
      "3404    max() arg is an empty sequence (MAXssssB)\n",
      "3405    max() arg is an empty sequence (MAXssssB)\n",
      "Name: MAXssssB, Length: 3333, dtype: object\n",
      "0       max() arg is an empty sequence (MAXsSiH3)\n",
      "1       max() arg is an empty sequence (MAXsSiH3)\n",
      "2       max() arg is an empty sequence (MAXsSiH3)\n",
      "3       max() arg is an empty sequence (MAXsSiH3)\n",
      "4       max() arg is an empty sequence (MAXsSiH3)\n",
      "                          ...                    \n",
      "3401    max() arg is an empty sequence (MAXsSiH3)\n",
      "3402    max() arg is an empty sequence (MAXsSiH3)\n",
      "3403    max() arg is an empty sequence (MAXsSiH3)\n",
      "3404    max() arg is an empty sequence (MAXsSiH3)\n",
      "3405    max() arg is an empty sequence (MAXsSiH3)\n",
      "Name: MAXsSiH3, Length: 3333, dtype: object\n",
      "0       max() arg is an empty sequence (MAXssSiH2)\n",
      "1       max() arg is an empty sequence (MAXssSiH2)\n",
      "2       max() arg is an empty sequence (MAXssSiH2)\n",
      "3       max() arg is an empty sequence (MAXssSiH2)\n",
      "4       max() arg is an empty sequence (MAXssSiH2)\n",
      "                           ...                    \n",
      "3401    max() arg is an empty sequence (MAXssSiH2)\n",
      "3402    max() arg is an empty sequence (MAXssSiH2)\n",
      "3403    max() arg is an empty sequence (MAXssSiH2)\n",
      "3404    max() arg is an empty sequence (MAXssSiH2)\n",
      "3405    max() arg is an empty sequence (MAXssSiH2)\n",
      "Name: MAXssSiH2, Length: 3333, dtype: object\n",
      "0       max() arg is an empty sequence (MAXsssSiH)\n",
      "1       max() arg is an empty sequence (MAXsssSiH)\n",
      "2       max() arg is an empty sequence (MAXsssSiH)\n",
      "3       max() arg is an empty sequence (MAXsssSiH)\n",
      "4       max() arg is an empty sequence (MAXsssSiH)\n",
      "                           ...                    \n",
      "3401    max() arg is an empty sequence (MAXsssSiH)\n",
      "3402    max() arg is an empty sequence (MAXsssSiH)\n",
      "3403    max() arg is an empty sequence (MAXsssSiH)\n",
      "3404    max() arg is an empty sequence (MAXsssSiH)\n",
      "3405    max() arg is an empty sequence (MAXsssSiH)\n",
      "Name: MAXsssSiH, Length: 3333, dtype: object\n",
      "0       max() arg is an empty sequence (MAXsPH2)\n",
      "1       max() arg is an empty sequence (MAXsPH2)\n",
      "2       max() arg is an empty sequence (MAXsPH2)\n",
      "3       max() arg is an empty sequence (MAXsPH2)\n",
      "4       max() arg is an empty sequence (MAXsPH2)\n",
      "                          ...                   \n",
      "3401    max() arg is an empty sequence (MAXsPH2)\n",
      "3402    max() arg is an empty sequence (MAXsPH2)\n",
      "3403    max() arg is an empty sequence (MAXsPH2)\n",
      "3404    max() arg is an empty sequence (MAXsPH2)\n",
      "3405    max() arg is an empty sequence (MAXsPH2)\n",
      "Name: MAXsPH2, Length: 3333, dtype: object\n",
      "0       max() arg is an empty sequence (MAXssPH)\n",
      "1       max() arg is an empty sequence (MAXssPH)\n",
      "2       max() arg is an empty sequence (MAXssPH)\n",
      "3       max() arg is an empty sequence (MAXssPH)\n",
      "4       max() arg is an empty sequence (MAXssPH)\n",
      "                          ...                   \n",
      "3401    max() arg is an empty sequence (MAXssPH)\n",
      "3402    max() arg is an empty sequence (MAXssPH)\n",
      "3403    max() arg is an empty sequence (MAXssPH)\n",
      "3404    max() arg is an empty sequence (MAXssPH)\n",
      "3405    max() arg is an empty sequence (MAXssPH)\n",
      "Name: MAXssPH, Length: 3333, dtype: object\n",
      "0       max() arg is an empty sequence (MAXsssP)\n",
      "1       max() arg is an empty sequence (MAXsssP)\n",
      "2       max() arg is an empty sequence (MAXsssP)\n",
      "3       max() arg is an empty sequence (MAXsssP)\n",
      "4       max() arg is an empty sequence (MAXsssP)\n",
      "                          ...                   \n",
      "3401    max() arg is an empty sequence (MAXsssP)\n",
      "3402    max() arg is an empty sequence (MAXsssP)\n",
      "3403    max() arg is an empty sequence (MAXsssP)\n",
      "3404    max() arg is an empty sequence (MAXsssP)\n",
      "3405    max() arg is an empty sequence (MAXsssP)\n",
      "Name: MAXsssP, Length: 3333, dtype: object\n",
      "0       max() arg is an empty sequence (MAXsssssP)\n",
      "1       max() arg is an empty sequence (MAXsssssP)\n",
      "2       max() arg is an empty sequence (MAXsssssP)\n",
      "3       max() arg is an empty sequence (MAXsssssP)\n",
      "4       max() arg is an empty sequence (MAXsssssP)\n",
      "                           ...                    \n",
      "3401    max() arg is an empty sequence (MAXsssssP)\n",
      "3402    max() arg is an empty sequence (MAXsssssP)\n",
      "3403    max() arg is an empty sequence (MAXsssssP)\n",
      "3404    max() arg is an empty sequence (MAXsssssP)\n",
      "3405    max() arg is an empty sequence (MAXsssssP)\n",
      "Name: MAXsssssP, Length: 3333, dtype: object\n",
      "0       max() arg is an empty sequence (MAXsGeH3)\n",
      "1       max() arg is an empty sequence (MAXsGeH3)\n",
      "2       max() arg is an empty sequence (MAXsGeH3)\n",
      "3       max() arg is an empty sequence (MAXsGeH3)\n",
      "4       max() arg is an empty sequence (MAXsGeH3)\n",
      "                          ...                    \n",
      "3401    max() arg is an empty sequence (MAXsGeH3)\n",
      "3402    max() arg is an empty sequence (MAXsGeH3)\n",
      "3403    max() arg is an empty sequence (MAXsGeH3)\n",
      "3404    max() arg is an empty sequence (MAXsGeH3)\n",
      "3405    max() arg is an empty sequence (MAXsGeH3)\n",
      "Name: MAXsGeH3, Length: 3333, dtype: object\n",
      "0       max() arg is an empty sequence (MAXssGeH2)\n",
      "1       max() arg is an empty sequence (MAXssGeH2)\n",
      "2       max() arg is an empty sequence (MAXssGeH2)\n",
      "3       max() arg is an empty sequence (MAXssGeH2)\n",
      "4       max() arg is an empty sequence (MAXssGeH2)\n",
      "                           ...                    \n",
      "3401    max() arg is an empty sequence (MAXssGeH2)\n",
      "3402    max() arg is an empty sequence (MAXssGeH2)\n",
      "3403    max() arg is an empty sequence (MAXssGeH2)\n",
      "3404    max() arg is an empty sequence (MAXssGeH2)\n",
      "3405    max() arg is an empty sequence (MAXssGeH2)\n",
      "Name: MAXssGeH2, Length: 3333, dtype: object\n",
      "0       max() arg is an empty sequence (MAXsssGeH)\n",
      "1       max() arg is an empty sequence (MAXsssGeH)\n",
      "2       max() arg is an empty sequence (MAXsssGeH)\n",
      "3       max() arg is an empty sequence (MAXsssGeH)\n",
      "4       max() arg is an empty sequence (MAXsssGeH)\n",
      "                           ...                    \n",
      "3401    max() arg is an empty sequence (MAXsssGeH)\n",
      "3402    max() arg is an empty sequence (MAXsssGeH)\n",
      "3403    max() arg is an empty sequence (MAXsssGeH)\n",
      "3404    max() arg is an empty sequence (MAXsssGeH)\n",
      "3405    max() arg is an empty sequence (MAXsssGeH)\n",
      "Name: MAXsssGeH, Length: 3333, dtype: object\n",
      "0       max() arg is an empty sequence (MAXssssGe)\n",
      "1       max() arg is an empty sequence (MAXssssGe)\n",
      "2       max() arg is an empty sequence (MAXssssGe)\n",
      "3       max() arg is an empty sequence (MAXssssGe)\n",
      "4       max() arg is an empty sequence (MAXssssGe)\n",
      "                           ...                    \n",
      "3401    max() arg is an empty sequence (MAXssssGe)\n",
      "3402    max() arg is an empty sequence (MAXssssGe)\n",
      "3403    max() arg is an empty sequence (MAXssssGe)\n",
      "3404    max() arg is an empty sequence (MAXssssGe)\n",
      "3405    max() arg is an empty sequence (MAXssssGe)\n",
      "Name: MAXssssGe, Length: 3333, dtype: object\n",
      "0       max() arg is an empty sequence (MAXsAsH2)\n",
      "1       max() arg is an empty sequence (MAXsAsH2)\n",
      "2       max() arg is an empty sequence (MAXsAsH2)\n",
      "3       max() arg is an empty sequence (MAXsAsH2)\n",
      "4       max() arg is an empty sequence (MAXsAsH2)\n",
      "                          ...                    \n",
      "3401    max() arg is an empty sequence (MAXsAsH2)\n",
      "3402    max() arg is an empty sequence (MAXsAsH2)\n",
      "3403    max() arg is an empty sequence (MAXsAsH2)\n",
      "3404    max() arg is an empty sequence (MAXsAsH2)\n",
      "3405    max() arg is an empty sequence (MAXsAsH2)\n",
      "Name: MAXsAsH2, Length: 3333, dtype: object\n",
      "0       max() arg is an empty sequence (MAXssAsH)\n",
      "1       max() arg is an empty sequence (MAXssAsH)\n",
      "2       max() arg is an empty sequence (MAXssAsH)\n",
      "3       max() arg is an empty sequence (MAXssAsH)\n",
      "4       max() arg is an empty sequence (MAXssAsH)\n",
      "                          ...                    \n",
      "3401    max() arg is an empty sequence (MAXssAsH)\n",
      "3402    max() arg is an empty sequence (MAXssAsH)\n",
      "3403    max() arg is an empty sequence (MAXssAsH)\n",
      "3404    max() arg is an empty sequence (MAXssAsH)\n",
      "3405    max() arg is an empty sequence (MAXssAsH)\n",
      "Name: MAXssAsH, Length: 3333, dtype: object\n",
      "0       max() arg is an empty sequence (MAXsssssAs)\n",
      "1       max() arg is an empty sequence (MAXsssssAs)\n",
      "2       max() arg is an empty sequence (MAXsssssAs)\n",
      "3       max() arg is an empty sequence (MAXsssssAs)\n",
      "4       max() arg is an empty sequence (MAXsssssAs)\n",
      "                           ...                     \n",
      "3401    max() arg is an empty sequence (MAXsssssAs)\n",
      "3402    max() arg is an empty sequence (MAXsssssAs)\n",
      "3403    max() arg is an empty sequence (MAXsssssAs)\n",
      "3404    max() arg is an empty sequence (MAXsssssAs)\n",
      "3405    max() arg is an empty sequence (MAXsssssAs)\n",
      "Name: MAXsssssAs, Length: 3333, dtype: object\n",
      "0       max() arg is an empty sequence (MAXsSeH)\n",
      "1       max() arg is an empty sequence (MAXsSeH)\n",
      "2       max() arg is an empty sequence (MAXsSeH)\n",
      "3       max() arg is an empty sequence (MAXsSeH)\n",
      "4       max() arg is an empty sequence (MAXsSeH)\n",
      "                          ...                   \n",
      "3401    max() arg is an empty sequence (MAXsSeH)\n",
      "3402    max() arg is an empty sequence (MAXsSeH)\n",
      "3403    max() arg is an empty sequence (MAXsSeH)\n",
      "3404    max() arg is an empty sequence (MAXsSeH)\n",
      "3405    max() arg is an empty sequence (MAXsSeH)\n",
      "Name: MAXsSeH, Length: 3333, dtype: object\n",
      "0       max() arg is an empty sequence (MAXdSe)\n",
      "1       max() arg is an empty sequence (MAXdSe)\n",
      "2       max() arg is an empty sequence (MAXdSe)\n",
      "3       max() arg is an empty sequence (MAXdSe)\n",
      "4       max() arg is an empty sequence (MAXdSe)\n",
      "                         ...                   \n",
      "3401    max() arg is an empty sequence (MAXdSe)\n",
      "3402    max() arg is an empty sequence (MAXdSe)\n",
      "3403    max() arg is an empty sequence (MAXdSe)\n",
      "3404    max() arg is an empty sequence (MAXdSe)\n",
      "3405    max() arg is an empty sequence (MAXdSe)\n"
     ]
    },
    {
     "name": "stdout",
     "output_type": "stream",
     "text": [
      "Name: MAXdSe, Length: 3333, dtype: object\n",
      "0       max() arg is an empty sequence (MAXdssSe)\n",
      "1       max() arg is an empty sequence (MAXdssSe)\n",
      "2       max() arg is an empty sequence (MAXdssSe)\n",
      "3       max() arg is an empty sequence (MAXdssSe)\n",
      "4       max() arg is an empty sequence (MAXdssSe)\n",
      "                          ...                    \n",
      "3401    max() arg is an empty sequence (MAXdssSe)\n",
      "3402    max() arg is an empty sequence (MAXdssSe)\n",
      "3403    max() arg is an empty sequence (MAXdssSe)\n",
      "3404    max() arg is an empty sequence (MAXdssSe)\n",
      "3405    max() arg is an empty sequence (MAXdssSe)\n",
      "Name: MAXdssSe, Length: 3333, dtype: object\n",
      "0       max() arg is an empty sequence (MAXddssSe)\n",
      "1       max() arg is an empty sequence (MAXddssSe)\n",
      "2       max() arg is an empty sequence (MAXddssSe)\n",
      "3       max() arg is an empty sequence (MAXddssSe)\n",
      "4       max() arg is an empty sequence (MAXddssSe)\n",
      "                           ...                    \n",
      "3401    max() arg is an empty sequence (MAXddssSe)\n",
      "3402    max() arg is an empty sequence (MAXddssSe)\n",
      "3403    max() arg is an empty sequence (MAXddssSe)\n",
      "3404    max() arg is an empty sequence (MAXddssSe)\n",
      "3405    max() arg is an empty sequence (MAXddssSe)\n",
      "Name: MAXddssSe, Length: 3333, dtype: object\n",
      "0       max() arg is an empty sequence (MAXsSnH3)\n",
      "1       max() arg is an empty sequence (MAXsSnH3)\n",
      "2       max() arg is an empty sequence (MAXsSnH3)\n",
      "3       max() arg is an empty sequence (MAXsSnH3)\n",
      "4       max() arg is an empty sequence (MAXsSnH3)\n",
      "                          ...                    \n",
      "3401    max() arg is an empty sequence (MAXsSnH3)\n",
      "3402    max() arg is an empty sequence (MAXsSnH3)\n",
      "3403    max() arg is an empty sequence (MAXsSnH3)\n",
      "3404    max() arg is an empty sequence (MAXsSnH3)\n",
      "3405    max() arg is an empty sequence (MAXsSnH3)\n",
      "Name: MAXsSnH3, Length: 3333, dtype: object\n",
      "0       max() arg is an empty sequence (MAXssSnH2)\n",
      "1       max() arg is an empty sequence (MAXssSnH2)\n",
      "2       max() arg is an empty sequence (MAXssSnH2)\n",
      "3       max() arg is an empty sequence (MAXssSnH2)\n",
      "4       max() arg is an empty sequence (MAXssSnH2)\n",
      "                           ...                    \n",
      "3401    max() arg is an empty sequence (MAXssSnH2)\n",
      "3402    max() arg is an empty sequence (MAXssSnH2)\n",
      "3403    max() arg is an empty sequence (MAXssSnH2)\n",
      "3404    max() arg is an empty sequence (MAXssSnH2)\n",
      "3405    max() arg is an empty sequence (MAXssSnH2)\n",
      "Name: MAXssSnH2, Length: 3333, dtype: object\n",
      "0       max() arg is an empty sequence (MAXsssSnH)\n",
      "1       max() arg is an empty sequence (MAXsssSnH)\n",
      "2       max() arg is an empty sequence (MAXsssSnH)\n",
      "3       max() arg is an empty sequence (MAXsssSnH)\n",
      "4       max() arg is an empty sequence (MAXsssSnH)\n",
      "                           ...                    \n",
      "3401    max() arg is an empty sequence (MAXsssSnH)\n",
      "3402    max() arg is an empty sequence (MAXsssSnH)\n",
      "3403    max() arg is an empty sequence (MAXsssSnH)\n",
      "3404    max() arg is an empty sequence (MAXsssSnH)\n",
      "3405    max() arg is an empty sequence (MAXsssSnH)\n",
      "Name: MAXsssSnH, Length: 3333, dtype: object\n",
      "0       max() arg is an empty sequence (MAXsPbH3)\n",
      "1       max() arg is an empty sequence (MAXsPbH3)\n",
      "2       max() arg is an empty sequence (MAXsPbH3)\n",
      "3       max() arg is an empty sequence (MAXsPbH3)\n",
      "4       max() arg is an empty sequence (MAXsPbH3)\n",
      "                          ...                    \n",
      "3401    max() arg is an empty sequence (MAXsPbH3)\n",
      "3402    max() arg is an empty sequence (MAXsPbH3)\n",
      "3403    max() arg is an empty sequence (MAXsPbH3)\n",
      "3404    max() arg is an empty sequence (MAXsPbH3)\n",
      "3405    max() arg is an empty sequence (MAXsPbH3)\n",
      "Name: MAXsPbH3, Length: 3333, dtype: object\n",
      "0       max() arg is an empty sequence (MAXssPbH2)\n",
      "1       max() arg is an empty sequence (MAXssPbH2)\n",
      "2       max() arg is an empty sequence (MAXssPbH2)\n",
      "3       max() arg is an empty sequence (MAXssPbH2)\n",
      "4       max() arg is an empty sequence (MAXssPbH2)\n",
      "                           ...                    \n",
      "3401    max() arg is an empty sequence (MAXssPbH2)\n",
      "3402    max() arg is an empty sequence (MAXssPbH2)\n",
      "3403    max() arg is an empty sequence (MAXssPbH2)\n",
      "3404    max() arg is an empty sequence (MAXssPbH2)\n",
      "3405    max() arg is an empty sequence (MAXssPbH2)\n",
      "Name: MAXssPbH2, Length: 3333, dtype: object\n",
      "0       max() arg is an empty sequence (MAXsssPbH)\n",
      "1       max() arg is an empty sequence (MAXsssPbH)\n",
      "2       max() arg is an empty sequence (MAXsssPbH)\n",
      "3       max() arg is an empty sequence (MAXsssPbH)\n",
      "4       max() arg is an empty sequence (MAXsssPbH)\n",
      "                           ...                    \n",
      "3401    max() arg is an empty sequence (MAXsssPbH)\n",
      "3402    max() arg is an empty sequence (MAXsssPbH)\n",
      "3403    max() arg is an empty sequence (MAXsssPbH)\n",
      "3404    max() arg is an empty sequence (MAXsssPbH)\n",
      "3405    max() arg is an empty sequence (MAXsssPbH)\n",
      "Name: MAXsssPbH, Length: 3333, dtype: object\n",
      "0       max() arg is an empty sequence (MAXssssPb)\n",
      "1       max() arg is an empty sequence (MAXssssPb)\n",
      "2       max() arg is an empty sequence (MAXssssPb)\n",
      "3       max() arg is an empty sequence (MAXssssPb)\n",
      "4       max() arg is an empty sequence (MAXssssPb)\n",
      "                           ...                    \n",
      "3401    max() arg is an empty sequence (MAXssssPb)\n",
      "3402    max() arg is an empty sequence (MAXssssPb)\n",
      "3403    max() arg is an empty sequence (MAXssssPb)\n",
      "3404    max() arg is an empty sequence (MAXssssPb)\n",
      "3405    max() arg is an empty sequence (MAXssssPb)\n",
      "Name: MAXssssPb, Length: 3333, dtype: object\n",
      "0       min() arg is an empty sequence (MINsLi)\n",
      "1       min() arg is an empty sequence (MINsLi)\n",
      "2       min() arg is an empty sequence (MINsLi)\n",
      "3       min() arg is an empty sequence (MINsLi)\n",
      "4       min() arg is an empty sequence (MINsLi)\n",
      "                         ...                   \n",
      "3401    min() arg is an empty sequence (MINsLi)\n",
      "3402    min() arg is an empty sequence (MINsLi)\n",
      "3403    min() arg is an empty sequence (MINsLi)\n",
      "3404    min() arg is an empty sequence (MINsLi)\n",
      "3405    min() arg is an empty sequence (MINsLi)\n",
      "Name: MINsLi, Length: 3333, dtype: object\n",
      "0       min() arg is an empty sequence (MINssBe)\n",
      "1       min() arg is an empty sequence (MINssBe)\n",
      "2       min() arg is an empty sequence (MINssBe)\n",
      "3       min() arg is an empty sequence (MINssBe)\n",
      "4       min() arg is an empty sequence (MINssBe)\n",
      "                          ...                   \n",
      "3401    min() arg is an empty sequence (MINssBe)\n",
      "3402    min() arg is an empty sequence (MINssBe)\n",
      "3403    min() arg is an empty sequence (MINssBe)\n",
      "3404    min() arg is an empty sequence (MINssBe)\n",
      "3405    min() arg is an empty sequence (MINssBe)\n",
      "Name: MINssBe, Length: 3333, dtype: object\n",
      "0       min() arg is an empty sequence (MINssssBe)\n",
      "1       min() arg is an empty sequence (MINssssBe)\n",
      "2       min() arg is an empty sequence (MINssssBe)\n",
      "3       min() arg is an empty sequence (MINssssBe)\n",
      "4       min() arg is an empty sequence (MINssssBe)\n",
      "                           ...                    \n",
      "3401    min() arg is an empty sequence (MINssssBe)\n",
      "3402    min() arg is an empty sequence (MINssssBe)\n",
      "3403    min() arg is an empty sequence (MINssssBe)\n",
      "3404    min() arg is an empty sequence (MINssssBe)\n",
      "3405    min() arg is an empty sequence (MINssssBe)\n",
      "Name: MINssssBe, Length: 3333, dtype: object\n",
      "0       min() arg is an empty sequence (MINssBH)\n",
      "1       min() arg is an empty sequence (MINssBH)\n",
      "2       min() arg is an empty sequence (MINssBH)\n",
      "3       min() arg is an empty sequence (MINssBH)\n",
      "4       min() arg is an empty sequence (MINssBH)\n",
      "                          ...                   \n",
      "3401    min() arg is an empty sequence (MINssBH)\n",
      "3402    min() arg is an empty sequence (MINssBH)\n",
      "3403    min() arg is an empty sequence (MINssBH)\n",
      "3404    min() arg is an empty sequence (MINssBH)\n",
      "3405    min() arg is an empty sequence (MINssBH)\n",
      "Name: MINssBH, Length: 3333, dtype: object\n",
      "0       min() arg is an empty sequence (MINssssB)\n",
      "1       min() arg is an empty sequence (MINssssB)\n",
      "2       min() arg is an empty sequence (MINssssB)\n",
      "3       min() arg is an empty sequence (MINssssB)\n",
      "4       min() arg is an empty sequence (MINssssB)\n",
      "                          ...                    \n",
      "3401    min() arg is an empty sequence (MINssssB)\n",
      "3402    min() arg is an empty sequence (MINssssB)\n",
      "3403    min() arg is an empty sequence (MINssssB)\n",
      "3404    min() arg is an empty sequence (MINssssB)\n",
      "3405    min() arg is an empty sequence (MINssssB)\n",
      "Name: MINssssB, Length: 3333, dtype: object\n",
      "0       min() arg is an empty sequence (MINsSiH3)\n",
      "1       min() arg is an empty sequence (MINsSiH3)\n",
      "2       min() arg is an empty sequence (MINsSiH3)\n",
      "3       min() arg is an empty sequence (MINsSiH3)\n",
      "4       min() arg is an empty sequence (MINsSiH3)\n",
      "                          ...                    \n",
      "3401    min() arg is an empty sequence (MINsSiH3)\n",
      "3402    min() arg is an empty sequence (MINsSiH3)\n",
      "3403    min() arg is an empty sequence (MINsSiH3)\n",
      "3404    min() arg is an empty sequence (MINsSiH3)\n",
      "3405    min() arg is an empty sequence (MINsSiH3)\n",
      "Name: MINsSiH3, Length: 3333, dtype: object\n",
      "0       min() arg is an empty sequence (MINssSiH2)\n",
      "1       min() arg is an empty sequence (MINssSiH2)\n",
      "2       min() arg is an empty sequence (MINssSiH2)\n",
      "3       min() arg is an empty sequence (MINssSiH2)\n",
      "4       min() arg is an empty sequence (MINssSiH2)\n",
      "                           ...                    \n",
      "3401    min() arg is an empty sequence (MINssSiH2)\n",
      "3402    min() arg is an empty sequence (MINssSiH2)\n",
      "3403    min() arg is an empty sequence (MINssSiH2)\n",
      "3404    min() arg is an empty sequence (MINssSiH2)\n",
      "3405    min() arg is an empty sequence (MINssSiH2)\n"
     ]
    },
    {
     "name": "stdout",
     "output_type": "stream",
     "text": [
      "Name: MINssSiH2, Length: 3333, dtype: object\n",
      "0       min() arg is an empty sequence (MINsssSiH)\n",
      "1       min() arg is an empty sequence (MINsssSiH)\n",
      "2       min() arg is an empty sequence (MINsssSiH)\n",
      "3       min() arg is an empty sequence (MINsssSiH)\n",
      "4       min() arg is an empty sequence (MINsssSiH)\n",
      "                           ...                    \n",
      "3401    min() arg is an empty sequence (MINsssSiH)\n",
      "3402    min() arg is an empty sequence (MINsssSiH)\n",
      "3403    min() arg is an empty sequence (MINsssSiH)\n",
      "3404    min() arg is an empty sequence (MINsssSiH)\n",
      "3405    min() arg is an empty sequence (MINsssSiH)\n",
      "Name: MINsssSiH, Length: 3333, dtype: object\n",
      "0       min() arg is an empty sequence (MINsPH2)\n",
      "1       min() arg is an empty sequence (MINsPH2)\n",
      "2       min() arg is an empty sequence (MINsPH2)\n",
      "3       min() arg is an empty sequence (MINsPH2)\n",
      "4       min() arg is an empty sequence (MINsPH2)\n",
      "                          ...                   \n",
      "3401    min() arg is an empty sequence (MINsPH2)\n",
      "3402    min() arg is an empty sequence (MINsPH2)\n",
      "3403    min() arg is an empty sequence (MINsPH2)\n",
      "3404    min() arg is an empty sequence (MINsPH2)\n",
      "3405    min() arg is an empty sequence (MINsPH2)\n",
      "Name: MINsPH2, Length: 3333, dtype: object\n",
      "0       min() arg is an empty sequence (MINssPH)\n",
      "1       min() arg is an empty sequence (MINssPH)\n",
      "2       min() arg is an empty sequence (MINssPH)\n",
      "3       min() arg is an empty sequence (MINssPH)\n",
      "4       min() arg is an empty sequence (MINssPH)\n",
      "                          ...                   \n",
      "3401    min() arg is an empty sequence (MINssPH)\n",
      "3402    min() arg is an empty sequence (MINssPH)\n",
      "3403    min() arg is an empty sequence (MINssPH)\n",
      "3404    min() arg is an empty sequence (MINssPH)\n",
      "3405    min() arg is an empty sequence (MINssPH)\n",
      "Name: MINssPH, Length: 3333, dtype: object\n",
      "0       min() arg is an empty sequence (MINsssP)\n",
      "1       min() arg is an empty sequence (MINsssP)\n",
      "2       min() arg is an empty sequence (MINsssP)\n",
      "3       min() arg is an empty sequence (MINsssP)\n",
      "4       min() arg is an empty sequence (MINsssP)\n",
      "                          ...                   \n",
      "3401    min() arg is an empty sequence (MINsssP)\n",
      "3402    min() arg is an empty sequence (MINsssP)\n",
      "3403    min() arg is an empty sequence (MINsssP)\n",
      "3404    min() arg is an empty sequence (MINsssP)\n",
      "3405    min() arg is an empty sequence (MINsssP)\n",
      "Name: MINsssP, Length: 3333, dtype: object\n",
      "0       min() arg is an empty sequence (MINsssssP)\n",
      "1       min() arg is an empty sequence (MINsssssP)\n",
      "2       min() arg is an empty sequence (MINsssssP)\n",
      "3       min() arg is an empty sequence (MINsssssP)\n",
      "4       min() arg is an empty sequence (MINsssssP)\n",
      "                           ...                    \n",
      "3401    min() arg is an empty sequence (MINsssssP)\n",
      "3402    min() arg is an empty sequence (MINsssssP)\n",
      "3403    min() arg is an empty sequence (MINsssssP)\n",
      "3404    min() arg is an empty sequence (MINsssssP)\n",
      "3405    min() arg is an empty sequence (MINsssssP)\n",
      "Name: MINsssssP, Length: 3333, dtype: object\n",
      "0       min() arg is an empty sequence (MINsGeH3)\n",
      "1       min() arg is an empty sequence (MINsGeH3)\n",
      "2       min() arg is an empty sequence (MINsGeH3)\n",
      "3       min() arg is an empty sequence (MINsGeH3)\n",
      "4       min() arg is an empty sequence (MINsGeH3)\n",
      "                          ...                    \n",
      "3401    min() arg is an empty sequence (MINsGeH3)\n",
      "3402    min() arg is an empty sequence (MINsGeH3)\n",
      "3403    min() arg is an empty sequence (MINsGeH3)\n",
      "3404    min() arg is an empty sequence (MINsGeH3)\n",
      "3405    min() arg is an empty sequence (MINsGeH3)\n",
      "Name: MINsGeH3, Length: 3333, dtype: object\n",
      "0       min() arg is an empty sequence (MINssGeH2)\n",
      "1       min() arg is an empty sequence (MINssGeH2)\n",
      "2       min() arg is an empty sequence (MINssGeH2)\n",
      "3       min() arg is an empty sequence (MINssGeH2)\n",
      "4       min() arg is an empty sequence (MINssGeH2)\n",
      "                           ...                    \n",
      "3401    min() arg is an empty sequence (MINssGeH2)\n",
      "3402    min() arg is an empty sequence (MINssGeH2)\n",
      "3403    min() arg is an empty sequence (MINssGeH2)\n",
      "3404    min() arg is an empty sequence (MINssGeH2)\n",
      "3405    min() arg is an empty sequence (MINssGeH2)\n",
      "Name: MINssGeH2, Length: 3333, dtype: object\n",
      "0       min() arg is an empty sequence (MINsssGeH)\n",
      "1       min() arg is an empty sequence (MINsssGeH)\n",
      "2       min() arg is an empty sequence (MINsssGeH)\n",
      "3       min() arg is an empty sequence (MINsssGeH)\n",
      "4       min() arg is an empty sequence (MINsssGeH)\n",
      "                           ...                    \n",
      "3401    min() arg is an empty sequence (MINsssGeH)\n",
      "3402    min() arg is an empty sequence (MINsssGeH)\n",
      "3403    min() arg is an empty sequence (MINsssGeH)\n",
      "3404    min() arg is an empty sequence (MINsssGeH)\n",
      "3405    min() arg is an empty sequence (MINsssGeH)\n",
      "Name: MINsssGeH, Length: 3333, dtype: object\n",
      "0       min() arg is an empty sequence (MINssssGe)\n",
      "1       min() arg is an empty sequence (MINssssGe)\n",
      "2       min() arg is an empty sequence (MINssssGe)\n",
      "3       min() arg is an empty sequence (MINssssGe)\n",
      "4       min() arg is an empty sequence (MINssssGe)\n",
      "                           ...                    \n",
      "3401    min() arg is an empty sequence (MINssssGe)\n",
      "3402    min() arg is an empty sequence (MINssssGe)\n",
      "3403    min() arg is an empty sequence (MINssssGe)\n",
      "3404    min() arg is an empty sequence (MINssssGe)\n",
      "3405    min() arg is an empty sequence (MINssssGe)\n",
      "Name: MINssssGe, Length: 3333, dtype: object\n",
      "0       min() arg is an empty sequence (MINsAsH2)\n",
      "1       min() arg is an empty sequence (MINsAsH2)\n",
      "2       min() arg is an empty sequence (MINsAsH2)\n",
      "3       min() arg is an empty sequence (MINsAsH2)\n",
      "4       min() arg is an empty sequence (MINsAsH2)\n",
      "                          ...                    \n",
      "3401    min() arg is an empty sequence (MINsAsH2)\n",
      "3402    min() arg is an empty sequence (MINsAsH2)\n",
      "3403    min() arg is an empty sequence (MINsAsH2)\n",
      "3404    min() arg is an empty sequence (MINsAsH2)\n",
      "3405    min() arg is an empty sequence (MINsAsH2)\n",
      "Name: MINsAsH2, Length: 3333, dtype: object\n",
      "0       min() arg is an empty sequence (MINssAsH)\n",
      "1       min() arg is an empty sequence (MINssAsH)\n",
      "2       min() arg is an empty sequence (MINssAsH)\n",
      "3       min() arg is an empty sequence (MINssAsH)\n",
      "4       min() arg is an empty sequence (MINssAsH)\n",
      "                          ...                    \n",
      "3401    min() arg is an empty sequence (MINssAsH)\n",
      "3402    min() arg is an empty sequence (MINssAsH)\n",
      "3403    min() arg is an empty sequence (MINssAsH)\n",
      "3404    min() arg is an empty sequence (MINssAsH)\n",
      "3405    min() arg is an empty sequence (MINssAsH)\n",
      "Name: MINssAsH, Length: 3333, dtype: object\n",
      "0       min() arg is an empty sequence (MINsssssAs)\n",
      "1       min() arg is an empty sequence (MINsssssAs)\n",
      "2       min() arg is an empty sequence (MINsssssAs)\n",
      "3       min() arg is an empty sequence (MINsssssAs)\n",
      "4       min() arg is an empty sequence (MINsssssAs)\n",
      "                           ...                     \n",
      "3401    min() arg is an empty sequence (MINsssssAs)\n",
      "3402    min() arg is an empty sequence (MINsssssAs)\n",
      "3403    min() arg is an empty sequence (MINsssssAs)\n",
      "3404    min() arg is an empty sequence (MINsssssAs)\n",
      "3405    min() arg is an empty sequence (MINsssssAs)\n",
      "Name: MINsssssAs, Length: 3333, dtype: object\n",
      "0       min() arg is an empty sequence (MINsSeH)\n",
      "1       min() arg is an empty sequence (MINsSeH)\n",
      "2       min() arg is an empty sequence (MINsSeH)\n",
      "3       min() arg is an empty sequence (MINsSeH)\n",
      "4       min() arg is an empty sequence (MINsSeH)\n",
      "                          ...                   \n",
      "3401    min() arg is an empty sequence (MINsSeH)\n",
      "3402    min() arg is an empty sequence (MINsSeH)\n",
      "3403    min() arg is an empty sequence (MINsSeH)\n",
      "3404    min() arg is an empty sequence (MINsSeH)\n",
      "3405    min() arg is an empty sequence (MINsSeH)\n",
      "Name: MINsSeH, Length: 3333, dtype: object\n",
      "0       min() arg is an empty sequence (MINdSe)\n",
      "1       min() arg is an empty sequence (MINdSe)\n",
      "2       min() arg is an empty sequence (MINdSe)\n",
      "3       min() arg is an empty sequence (MINdSe)\n",
      "4       min() arg is an empty sequence (MINdSe)\n",
      "                         ...                   \n",
      "3401    min() arg is an empty sequence (MINdSe)\n",
      "3402    min() arg is an empty sequence (MINdSe)\n",
      "3403    min() arg is an empty sequence (MINdSe)\n",
      "3404    min() arg is an empty sequence (MINdSe)\n",
      "3405    min() arg is an empty sequence (MINdSe)\n",
      "Name: MINdSe, Length: 3333, dtype: object\n",
      "0       min() arg is an empty sequence (MINdssSe)\n",
      "1       min() arg is an empty sequence (MINdssSe)\n",
      "2       min() arg is an empty sequence (MINdssSe)\n",
      "3       min() arg is an empty sequence (MINdssSe)\n",
      "4       min() arg is an empty sequence (MINdssSe)\n",
      "                          ...                    \n",
      "3401    min() arg is an empty sequence (MINdssSe)\n",
      "3402    min() arg is an empty sequence (MINdssSe)\n",
      "3403    min() arg is an empty sequence (MINdssSe)\n",
      "3404    min() arg is an empty sequence (MINdssSe)\n",
      "3405    min() arg is an empty sequence (MINdssSe)\n",
      "Name: MINdssSe, Length: 3333, dtype: object\n",
      "0       min() arg is an empty sequence (MINddssSe)\n",
      "1       min() arg is an empty sequence (MINddssSe)\n",
      "2       min() arg is an empty sequence (MINddssSe)\n",
      "3       min() arg is an empty sequence (MINddssSe)\n",
      "4       min() arg is an empty sequence (MINddssSe)\n",
      "                           ...                    \n",
      "3401    min() arg is an empty sequence (MINddssSe)\n",
      "3402    min() arg is an empty sequence (MINddssSe)\n",
      "3403    min() arg is an empty sequence (MINddssSe)\n",
      "3404    min() arg is an empty sequence (MINddssSe)\n",
      "3405    min() arg is an empty sequence (MINddssSe)\n"
     ]
    },
    {
     "name": "stdout",
     "output_type": "stream",
     "text": [
      "Name: MINddssSe, Length: 3333, dtype: object\n",
      "0       min() arg is an empty sequence (MINsSnH3)\n",
      "1       min() arg is an empty sequence (MINsSnH3)\n",
      "2       min() arg is an empty sequence (MINsSnH3)\n",
      "3       min() arg is an empty sequence (MINsSnH3)\n",
      "4       min() arg is an empty sequence (MINsSnH3)\n",
      "                          ...                    \n",
      "3401    min() arg is an empty sequence (MINsSnH3)\n",
      "3402    min() arg is an empty sequence (MINsSnH3)\n",
      "3403    min() arg is an empty sequence (MINsSnH3)\n",
      "3404    min() arg is an empty sequence (MINsSnH3)\n",
      "3405    min() arg is an empty sequence (MINsSnH3)\n",
      "Name: MINsSnH3, Length: 3333, dtype: object\n",
      "0       min() arg is an empty sequence (MINssSnH2)\n",
      "1       min() arg is an empty sequence (MINssSnH2)\n",
      "2       min() arg is an empty sequence (MINssSnH2)\n",
      "3       min() arg is an empty sequence (MINssSnH2)\n",
      "4       min() arg is an empty sequence (MINssSnH2)\n",
      "                           ...                    \n",
      "3401    min() arg is an empty sequence (MINssSnH2)\n",
      "3402    min() arg is an empty sequence (MINssSnH2)\n",
      "3403    min() arg is an empty sequence (MINssSnH2)\n",
      "3404    min() arg is an empty sequence (MINssSnH2)\n",
      "3405    min() arg is an empty sequence (MINssSnH2)\n",
      "Name: MINssSnH2, Length: 3333, dtype: object\n",
      "0       min() arg is an empty sequence (MINsssSnH)\n",
      "1       min() arg is an empty sequence (MINsssSnH)\n",
      "2       min() arg is an empty sequence (MINsssSnH)\n",
      "3       min() arg is an empty sequence (MINsssSnH)\n",
      "4       min() arg is an empty sequence (MINsssSnH)\n",
      "                           ...                    \n",
      "3401    min() arg is an empty sequence (MINsssSnH)\n",
      "3402    min() arg is an empty sequence (MINsssSnH)\n",
      "3403    min() arg is an empty sequence (MINsssSnH)\n",
      "3404    min() arg is an empty sequence (MINsssSnH)\n",
      "3405    min() arg is an empty sequence (MINsssSnH)\n",
      "Name: MINsssSnH, Length: 3333, dtype: object\n",
      "0       min() arg is an empty sequence (MINsPbH3)\n",
      "1       min() arg is an empty sequence (MINsPbH3)\n",
      "2       min() arg is an empty sequence (MINsPbH3)\n",
      "3       min() arg is an empty sequence (MINsPbH3)\n",
      "4       min() arg is an empty sequence (MINsPbH3)\n",
      "                          ...                    \n",
      "3401    min() arg is an empty sequence (MINsPbH3)\n",
      "3402    min() arg is an empty sequence (MINsPbH3)\n",
      "3403    min() arg is an empty sequence (MINsPbH3)\n",
      "3404    min() arg is an empty sequence (MINsPbH3)\n",
      "3405    min() arg is an empty sequence (MINsPbH3)\n",
      "Name: MINsPbH3, Length: 3333, dtype: object\n",
      "0       min() arg is an empty sequence (MINssPbH2)\n",
      "1       min() arg is an empty sequence (MINssPbH2)\n",
      "2       min() arg is an empty sequence (MINssPbH2)\n",
      "3       min() arg is an empty sequence (MINssPbH2)\n",
      "4       min() arg is an empty sequence (MINssPbH2)\n",
      "                           ...                    \n",
      "3401    min() arg is an empty sequence (MINssPbH2)\n",
      "3402    min() arg is an empty sequence (MINssPbH2)\n",
      "3403    min() arg is an empty sequence (MINssPbH2)\n",
      "3404    min() arg is an empty sequence (MINssPbH2)\n",
      "3405    min() arg is an empty sequence (MINssPbH2)\n",
      "Name: MINssPbH2, Length: 3333, dtype: object\n",
      "0       min() arg is an empty sequence (MINsssPbH)\n",
      "1       min() arg is an empty sequence (MINsssPbH)\n",
      "2       min() arg is an empty sequence (MINsssPbH)\n",
      "3       min() arg is an empty sequence (MINsssPbH)\n",
      "4       min() arg is an empty sequence (MINsssPbH)\n",
      "                           ...                    \n",
      "3401    min() arg is an empty sequence (MINsssPbH)\n",
      "3402    min() arg is an empty sequence (MINsssPbH)\n",
      "3403    min() arg is an empty sequence (MINsssPbH)\n",
      "3404    min() arg is an empty sequence (MINsssPbH)\n",
      "3405    min() arg is an empty sequence (MINsssPbH)\n",
      "Name: MINsssPbH, Length: 3333, dtype: object\n",
      "0       min() arg is an empty sequence (MINssssPb)\n",
      "1       min() arg is an empty sequence (MINssssPb)\n",
      "2       min() arg is an empty sequence (MINssssPb)\n",
      "3       min() arg is an empty sequence (MINssssPb)\n",
      "4       min() arg is an empty sequence (MINssssPb)\n",
      "                           ...                    \n",
      "3401    min() arg is an empty sequence (MINssssPb)\n",
      "3402    min() arg is an empty sequence (MINssssPb)\n",
      "3403    min() arg is an empty sequence (MINssssPb)\n",
      "3404    min() arg is an empty sequence (MINssssPb)\n",
      "3405    min() arg is an empty sequence (MINssssPb)\n",
      "Name: MINssssPb, Length: 3333, dtype: object\n"
     ]
    }
   ],
   "source": [
    "for i in range(dataset[full_nan_list].shape[1]):\n",
    "    print(dataset[full_nan_list].iloc[:, i])"
   ]
  },
  {
   "cell_type": "code",
   "execution_count": 22,
   "metadata": {},
   "outputs": [],
   "source": [
    "nan_count = []\n",
    "nan_dataset = full_dataset.astype(\"float64\").isna()\n",
    "for column_name in columns_list:\n",
    "    tf = nan_dataset[(y == True) & (nan_dataset[column_name] == False)][\n",
    "        column_name\n",
    "    ].count()\n",
    "    tt = nan_dataset[(y == True) & (nan_dataset[column_name] == True)][\n",
    "        column_name\n",
    "    ].count()\n",
    "    ft = nan_dataset[(y == False) & (nan_dataset[column_name] == True)][\n",
    "        column_name\n",
    "    ].count()\n",
    "    ff = nan_dataset[(y == False) & (nan_dataset[column_name] == False)][\n",
    "        column_name\n",
    "    ].count()\n",
    "    nan_count.append([tf, ff, tt, ft])\n",
    "nan_count = np.array(nan_count)"
   ]
  },
  {
   "cell_type": "code",
   "execution_count": 23,
   "metadata": {},
   "outputs": [
    {
     "data": {
      "text/html": [
       "<div>\n",
       "<style scoped>\n",
       "    .dataframe tbody tr th:only-of-type {\n",
       "        vertical-align: middle;\n",
       "    }\n",
       "\n",
       "    .dataframe tbody tr th {\n",
       "        vertical-align: top;\n",
       "    }\n",
       "\n",
       "    .dataframe thead th {\n",
       "        text-align: right;\n",
       "    }\n",
       "</style>\n",
       "<table border=\"1\" class=\"dataframe\">\n",
       "  <thead>\n",
       "    <tr style=\"text-align: right;\">\n",
       "      <th></th>\n",
       "      <th>ABC</th>\n",
       "      <th>ABCGG</th>\n",
       "      <th>nAcid</th>\n",
       "      <th>nBase</th>\n",
       "      <th>SpAbs_A</th>\n",
       "      <th>SpMax_A</th>\n",
       "      <th>SpDiam_A</th>\n",
       "      <th>SpAD_A</th>\n",
       "      <th>SpMAD_A</th>\n",
       "      <th>LogEE_A</th>\n",
       "      <th>...</th>\n",
       "      <th>TSRW10</th>\n",
       "      <th>MW</th>\n",
       "      <th>AMW</th>\n",
       "      <th>WPath</th>\n",
       "      <th>WPol</th>\n",
       "      <th>Zagreb1</th>\n",
       "      <th>Zagreb2</th>\n",
       "      <th>mZagreb1</th>\n",
       "      <th>mZagreb2</th>\n",
       "      <th>y</th>\n",
       "    </tr>\n",
       "  </thead>\n",
       "  <tbody>\n",
       "    <tr>\n",
       "      <th>0</th>\n",
       "      <td>False</td>\n",
       "      <td>False</td>\n",
       "      <td>False</td>\n",
       "      <td>False</td>\n",
       "      <td>True</td>\n",
       "      <td>True</td>\n",
       "      <td>True</td>\n",
       "      <td>True</td>\n",
       "      <td>True</td>\n",
       "      <td>True</td>\n",
       "      <td>...</td>\n",
       "      <td>False</td>\n",
       "      <td>False</td>\n",
       "      <td>False</td>\n",
       "      <td>False</td>\n",
       "      <td>False</td>\n",
       "      <td>False</td>\n",
       "      <td>False</td>\n",
       "      <td>True</td>\n",
       "      <td>False</td>\n",
       "      <td>False</td>\n",
       "    </tr>\n",
       "    <tr>\n",
       "      <th>1</th>\n",
       "      <td>False</td>\n",
       "      <td>False</td>\n",
       "      <td>False</td>\n",
       "      <td>False</td>\n",
       "      <td>False</td>\n",
       "      <td>False</td>\n",
       "      <td>False</td>\n",
       "      <td>False</td>\n",
       "      <td>False</td>\n",
       "      <td>False</td>\n",
       "      <td>...</td>\n",
       "      <td>False</td>\n",
       "      <td>False</td>\n",
       "      <td>False</td>\n",
       "      <td>False</td>\n",
       "      <td>False</td>\n",
       "      <td>False</td>\n",
       "      <td>False</td>\n",
       "      <td>False</td>\n",
       "      <td>False</td>\n",
       "      <td>False</td>\n",
       "    </tr>\n",
       "    <tr>\n",
       "      <th>2</th>\n",
       "      <td>False</td>\n",
       "      <td>False</td>\n",
       "      <td>False</td>\n",
       "      <td>False</td>\n",
       "      <td>False</td>\n",
       "      <td>False</td>\n",
       "      <td>False</td>\n",
       "      <td>False</td>\n",
       "      <td>False</td>\n",
       "      <td>False</td>\n",
       "      <td>...</td>\n",
       "      <td>False</td>\n",
       "      <td>False</td>\n",
       "      <td>False</td>\n",
       "      <td>False</td>\n",
       "      <td>False</td>\n",
       "      <td>False</td>\n",
       "      <td>False</td>\n",
       "      <td>False</td>\n",
       "      <td>False</td>\n",
       "      <td>False</td>\n",
       "    </tr>\n",
       "    <tr>\n",
       "      <th>3</th>\n",
       "      <td>False</td>\n",
       "      <td>False</td>\n",
       "      <td>False</td>\n",
       "      <td>False</td>\n",
       "      <td>False</td>\n",
       "      <td>False</td>\n",
       "      <td>False</td>\n",
       "      <td>False</td>\n",
       "      <td>False</td>\n",
       "      <td>False</td>\n",
       "      <td>...</td>\n",
       "      <td>False</td>\n",
       "      <td>False</td>\n",
       "      <td>False</td>\n",
       "      <td>False</td>\n",
       "      <td>False</td>\n",
       "      <td>False</td>\n",
       "      <td>False</td>\n",
       "      <td>False</td>\n",
       "      <td>False</td>\n",
       "      <td>False</td>\n",
       "    </tr>\n",
       "    <tr>\n",
       "      <th>4</th>\n",
       "      <td>False</td>\n",
       "      <td>False</td>\n",
       "      <td>False</td>\n",
       "      <td>False</td>\n",
       "      <td>False</td>\n",
       "      <td>False</td>\n",
       "      <td>False</td>\n",
       "      <td>False</td>\n",
       "      <td>False</td>\n",
       "      <td>False</td>\n",
       "      <td>...</td>\n",
       "      <td>False</td>\n",
       "      <td>False</td>\n",
       "      <td>False</td>\n",
       "      <td>False</td>\n",
       "      <td>False</td>\n",
       "      <td>False</td>\n",
       "      <td>False</td>\n",
       "      <td>False</td>\n",
       "      <td>False</td>\n",
       "      <td>False</td>\n",
       "    </tr>\n",
       "    <tr>\n",
       "      <th>...</th>\n",
       "      <td>...</td>\n",
       "      <td>...</td>\n",
       "      <td>...</td>\n",
       "      <td>...</td>\n",
       "      <td>...</td>\n",
       "      <td>...</td>\n",
       "      <td>...</td>\n",
       "      <td>...</td>\n",
       "      <td>...</td>\n",
       "      <td>...</td>\n",
       "      <td>...</td>\n",
       "      <td>...</td>\n",
       "      <td>...</td>\n",
       "      <td>...</td>\n",
       "      <td>...</td>\n",
       "      <td>...</td>\n",
       "      <td>...</td>\n",
       "      <td>...</td>\n",
       "      <td>...</td>\n",
       "      <td>...</td>\n",
       "      <td>...</td>\n",
       "    </tr>\n",
       "    <tr>\n",
       "      <th>3401</th>\n",
       "      <td>False</td>\n",
       "      <td>False</td>\n",
       "      <td>False</td>\n",
       "      <td>False</td>\n",
       "      <td>False</td>\n",
       "      <td>False</td>\n",
       "      <td>False</td>\n",
       "      <td>False</td>\n",
       "      <td>False</td>\n",
       "      <td>False</td>\n",
       "      <td>...</td>\n",
       "      <td>False</td>\n",
       "      <td>False</td>\n",
       "      <td>False</td>\n",
       "      <td>False</td>\n",
       "      <td>False</td>\n",
       "      <td>False</td>\n",
       "      <td>False</td>\n",
       "      <td>False</td>\n",
       "      <td>False</td>\n",
       "      <td>False</td>\n",
       "    </tr>\n",
       "    <tr>\n",
       "      <th>3402</th>\n",
       "      <td>False</td>\n",
       "      <td>False</td>\n",
       "      <td>False</td>\n",
       "      <td>False</td>\n",
       "      <td>False</td>\n",
       "      <td>False</td>\n",
       "      <td>False</td>\n",
       "      <td>False</td>\n",
       "      <td>False</td>\n",
       "      <td>False</td>\n",
       "      <td>...</td>\n",
       "      <td>False</td>\n",
       "      <td>False</td>\n",
       "      <td>False</td>\n",
       "      <td>False</td>\n",
       "      <td>False</td>\n",
       "      <td>False</td>\n",
       "      <td>False</td>\n",
       "      <td>False</td>\n",
       "      <td>False</td>\n",
       "      <td>False</td>\n",
       "    </tr>\n",
       "    <tr>\n",
       "      <th>3403</th>\n",
       "      <td>False</td>\n",
       "      <td>False</td>\n",
       "      <td>False</td>\n",
       "      <td>False</td>\n",
       "      <td>False</td>\n",
       "      <td>False</td>\n",
       "      <td>False</td>\n",
       "      <td>False</td>\n",
       "      <td>False</td>\n",
       "      <td>False</td>\n",
       "      <td>...</td>\n",
       "      <td>False</td>\n",
       "      <td>False</td>\n",
       "      <td>False</td>\n",
       "      <td>False</td>\n",
       "      <td>False</td>\n",
       "      <td>False</td>\n",
       "      <td>False</td>\n",
       "      <td>False</td>\n",
       "      <td>False</td>\n",
       "      <td>False</td>\n",
       "    </tr>\n",
       "    <tr>\n",
       "      <th>3404</th>\n",
       "      <td>False</td>\n",
       "      <td>False</td>\n",
       "      <td>False</td>\n",
       "      <td>False</td>\n",
       "      <td>False</td>\n",
       "      <td>False</td>\n",
       "      <td>False</td>\n",
       "      <td>False</td>\n",
       "      <td>False</td>\n",
       "      <td>False</td>\n",
       "      <td>...</td>\n",
       "      <td>False</td>\n",
       "      <td>False</td>\n",
       "      <td>False</td>\n",
       "      <td>False</td>\n",
       "      <td>False</td>\n",
       "      <td>False</td>\n",
       "      <td>False</td>\n",
       "      <td>False</td>\n",
       "      <td>False</td>\n",
       "      <td>False</td>\n",
       "    </tr>\n",
       "    <tr>\n",
       "      <th>3405</th>\n",
       "      <td>False</td>\n",
       "      <td>False</td>\n",
       "      <td>False</td>\n",
       "      <td>False</td>\n",
       "      <td>False</td>\n",
       "      <td>False</td>\n",
       "      <td>False</td>\n",
       "      <td>False</td>\n",
       "      <td>False</td>\n",
       "      <td>False</td>\n",
       "      <td>...</td>\n",
       "      <td>False</td>\n",
       "      <td>False</td>\n",
       "      <td>False</td>\n",
       "      <td>False</td>\n",
       "      <td>False</td>\n",
       "      <td>False</td>\n",
       "      <td>False</td>\n",
       "      <td>False</td>\n",
       "      <td>False</td>\n",
       "      <td>False</td>\n",
       "    </tr>\n",
       "  </tbody>\n",
       "</table>\n",
       "<p>3333 rows × 1614 columns</p>\n",
       "</div>"
      ],
      "text/plain": [
       "        ABC  ABCGG  nAcid  nBase  SpAbs_A  SpMax_A  SpDiam_A  SpAD_A  SpMAD_A  \\\n",
       "0     False  False  False  False     True     True      True    True     True   \n",
       "1     False  False  False  False    False    False     False   False    False   \n",
       "2     False  False  False  False    False    False     False   False    False   \n",
       "3     False  False  False  False    False    False     False   False    False   \n",
       "4     False  False  False  False    False    False     False   False    False   \n",
       "...     ...    ...    ...    ...      ...      ...       ...     ...      ...   \n",
       "3401  False  False  False  False    False    False     False   False    False   \n",
       "3402  False  False  False  False    False    False     False   False    False   \n",
       "3403  False  False  False  False    False    False     False   False    False   \n",
       "3404  False  False  False  False    False    False     False   False    False   \n",
       "3405  False  False  False  False    False    False     False   False    False   \n",
       "\n",
       "      LogEE_A  ...  TSRW10     MW    AMW  WPath   WPol  Zagreb1  Zagreb2  \\\n",
       "0        True  ...   False  False  False  False  False    False    False   \n",
       "1       False  ...   False  False  False  False  False    False    False   \n",
       "2       False  ...   False  False  False  False  False    False    False   \n",
       "3       False  ...   False  False  False  False  False    False    False   \n",
       "4       False  ...   False  False  False  False  False    False    False   \n",
       "...       ...  ...     ...    ...    ...    ...    ...      ...      ...   \n",
       "3401    False  ...   False  False  False  False  False    False    False   \n",
       "3402    False  ...   False  False  False  False  False    False    False   \n",
       "3403    False  ...   False  False  False  False  False    False    False   \n",
       "3404    False  ...   False  False  False  False  False    False    False   \n",
       "3405    False  ...   False  False  False  False  False    False    False   \n",
       "\n",
       "      mZagreb1  mZagreb2      y  \n",
       "0         True     False  False  \n",
       "1        False     False  False  \n",
       "2        False     False  False  \n",
       "3        False     False  False  \n",
       "4        False     False  False  \n",
       "...        ...       ...    ...  \n",
       "3401     False     False  False  \n",
       "3402     False     False  False  \n",
       "3403     False     False  False  \n",
       "3404     False     False  False  \n",
       "3405     False     False  False  \n",
       "\n",
       "[3333 rows x 1614 columns]"
      ]
     },
     "execution_count": 23,
     "metadata": {},
     "output_type": "execute_result"
    }
   ],
   "source": [
    "nan_dataset"
   ]
  },
  {
   "cell_type": "code",
   "execution_count": 24,
   "metadata": {},
   "outputs": [
    {
     "data": {
      "text/plain": [
       "array([[ 766, 2567,    0,    0],\n",
       "       [ 766, 2567,    0,    0],\n",
       "       [ 766, 2567,    0,    0],\n",
       "       ...,\n",
       "       [ 766, 2567,    0,    0],\n",
       "       [ 715, 2263,   51,  304],\n",
       "       [ 766, 2567,    0,    0]])"
      ]
     },
     "execution_count": 24,
     "metadata": {},
     "output_type": "execute_result"
    }
   ],
   "source": [
    "nan_count"
   ]
  },
  {
   "cell_type": "code",
   "execution_count": 25,
   "metadata": {},
   "outputs": [
    {
     "data": {
      "text/plain": [
       "(array([1216.,  215.,    9.,    0.,    7.,    3.,   12.,    5.,   14.,\n",
       "         132.]),\n",
       " array([0. , 0.1, 0.2, 0.3, 0.4, 0.5, 0.6, 0.7, 0.8, 0.9, 1. ]),\n",
       " <BarContainer object of 10 artists>)"
      ]
     },
     "execution_count": 25,
     "metadata": {},
     "output_type": "execute_result"
    },
    {
     "data": {
      "image/png": "[encoded data removed]",
      "text/plain": [
       "<Figure size 432x288 with 1 Axes>"
      ]
     },
     "metadata": {
      "needs_background": "light"
     },
     "output_type": "display_data"
    }
   ],
   "source": [
    "plt.hist(nan_count[:, 2] / (nan_count[:, 0] + nan_count[:, 2]))"
   ]
  },
  {
   "cell_type": "code",
   "execution_count": 26,
   "metadata": {},
   "outputs": [
    {
     "data": {
      "text/plain": [
       "(array([1161.,  266.,   10.,    5.,    3.,    3.,    4.,   12.,   14.,\n",
       "         135.]),\n",
       " array([0. , 0.1, 0.2, 0.3, 0.4, 0.5, 0.6, 0.7, 0.8, 0.9, 1. ]),\n",
       " <BarContainer object of 10 artists>)"
      ]
     },
     "execution_count": 26,
     "metadata": {},
     "output_type": "execute_result"
    },
    {
     "data": {
      "image/png": "[encoded data removed]",
      "text/plain": [
       "<Figure size 432x288 with 1 Axes>"
      ]
     },
     "metadata": {
      "needs_background": "light"
     },
     "output_type": "display_data"
    }
   ],
   "source": [
    "plt.hist(nan_count[:, 3] / (nan_count[:, 1] + nan_count[:, 3]))"
   ]
  },
  {
   "cell_type": "code",
   "execution_count": 27,
   "metadata": {},
   "outputs": [],
   "source": [
    "nan_ratio = np.array(\n",
    "    [\n",
    "        nan_count[:, 2] / (nan_count[:, 0] + nan_count[:, 2]),\n",
    "        nan_count[:, 3] / (nan_count[:, 1] + nan_count[:, 3]),\n",
    "    ]\n",
    ").T"
   ]
  },
  {
   "cell_type": "code",
   "execution_count": 28,
   "metadata": {},
   "outputs": [
    {
     "data": {
      "text/plain": [
       "array([[0.        , 0.        ],\n",
       "       [0.        , 0.        ],\n",
       "       [0.        , 0.        ],\n",
       "       ...,\n",
       "       [0.        , 0.        ],\n",
       "       [0.06657963, 0.11842618],\n",
       "       [0.        , 0.        ]])"
      ]
     },
     "execution_count": 28,
     "metadata": {},
     "output_type": "execute_result"
    }
   ],
   "source": [
    "nan_ratio"
   ]
  },
  {
   "cell_type": "code",
   "execution_count": 29,
   "metadata": {},
   "outputs": [
    {
     "data": {
      "text/plain": [
       "(array([   7.,    4.,   11.,   73.,  300.,   79., 1126.,    8.,    3.,\n",
       "           2.]),\n",
       " array([-0.14479622, -0.12188975, -0.09898328, -0.07607681, -0.05317034,\n",
       "        -0.03026386, -0.00735739,  0.01554908,  0.03845555,  0.06136203,\n",
       "         0.0842685 ]),\n",
       " <BarContainer object of 10 artists>)"
      ]
     },
     "execution_count": 29,
     "metadata": {},
     "output_type": "execute_result"
    },
    {
     "data": {
      "image/png": "[encoded data removed]",
      "text/plain": [
       "<Figure size 432x288 with 1 Axes>"
      ]
     },
     "metadata": {
      "needs_background": "light"
     },
     "output_type": "display_data"
    }
   ],
   "source": [
    "plt.hist(nan_ratio[:, 0] - nan_ratio[:, 1])"
   ]
  },
  {
   "cell_type": "code",
   "execution_count": 30,
   "metadata": {},
   "outputs": [],
   "source": [
    "from sklearn.model_selection import train_test_split, cross_val_score, GridSearchCV\n",
    "from sklearn.ensemble import RandomForestClassifier, GradientBoostingClassifier\n",
    "from sklearn.preprocessing import StandardScaler\n",
    "from sklearn.metrics import plot_confusion_matrix, roc_curve, roc_auc_score\n",
    "from sklearn.linear_model import RidgeClassifier\n",
    "from sklearn.svm import SVC\n",
    "from sklearn.decomposition import PCA"
   ]
  },
  {
   "cell_type": "code",
   "execution_count": 31,
   "metadata": {},
   "outputs": [
    {
     "data": {
      "text/plain": [
       "(array([False,  True]), array([2567,  766], dtype=int64))"
      ]
     },
     "execution_count": 31,
     "metadata": {},
     "output_type": "execute_result"
    }
   ],
   "source": [
    "np.unique(y, return_counts=True)"
   ]
  },
  {
   "cell_type": "code",
   "execution_count": 32,
   "metadata": {},
   "outputs": [],
   "source": [
    "dataset_float = dataset.astype(\"float64\")"
   ]
  },
  {
   "cell_type": "code",
   "execution_count": 33,
   "metadata": {},
   "outputs": [],
   "source": [
    "clean_dataset = dataset_float.dropna(axis=1)"
   ]
  },
  {
   "cell_type": "code",
   "execution_count": 34,
   "metadata": {},
   "outputs": [],
   "source": [
    "X_train_temp, X_test_temp, y_train, y_test = train_test_split(\n",
    "    clean_dataset, y, test_size=0.2, stratify=y\n",
    ")"
   ]
  },
  {
   "cell_type": "code",
   "execution_count": 35,
   "metadata": {},
   "outputs": [],
   "source": [
    "sc = StandardScaler()"
   ]
  },
  {
   "cell_type": "code",
   "execution_count": 36,
   "metadata": {},
   "outputs": [],
   "source": [
    "X_train = sc.fit_transform(X_train_temp)"
   ]
  },
  {
   "cell_type": "code",
   "execution_count": 37,
   "metadata": {},
   "outputs": [],
   "source": [
    "X_test = sc.transform(X_test_temp)"
   ]
  },
  {
   "cell_type": "markdown",
   "metadata": {},
   "source": [
    "### PCA"
   ]
  },
  {
   "cell_type": "code",
   "execution_count": 38,
   "metadata": {},
   "outputs": [
    {
     "data": {
      "image/png": "[encoded data removed]",
      "text/plain": [
       "<Figure size 864x432 with 1 Axes>"
      ]
     },
     "metadata": {
      "needs_background": "light"
     },
     "output_type": "display_data"
    }
   ],
   "source": [
    "pca = PCA().fit(X_train)\n",
    "\n",
    "plt.rcParams[\"figure.figsize\"] = (12, 6)\n",
    "\n",
    "fig, ax = plt.subplots()\n",
    "xi = np.arange(1, X_train.shape[1] + 1, step=1)\n",
    "y_pca = np.cumsum(pca.explained_variance_ratio_)\n",
    "\n",
    "plt.ylim(0.0, 1.1)\n",
    "plt.plot(xi, y_pca, marker=\"o\", linestyle=\"--\", color=\"b\")\n",
    "\n",
    "plt.xlabel(\"Number of Components\")\n",
    "plt.ylabel(\"Cumulative variance (%)\")\n",
    "plt.title(\"Number of components needed to explain variance\")\n",
    "\n",
    "plt.axhline(y=0.95, color=\"r\", linestyle=\"-\")\n",
    "plt.text(300.0, 0.85, \"95% cut-off threshold\", color=\"red\", fontsize=16)\n",
    "\n",
    "plt.axhline(y=0.99, color=\"g\", linestyle=\"-\")\n",
    "plt.text(300.0, 1.03, \"99% cut-off threshold\", color=\"green\", fontsize=16)\n",
    "\n",
    "ax.grid(axis=\"x\")\n",
    "plt.show()"
   ]
  },
  {
   "cell_type": "code",
   "execution_count": 39,
   "metadata": {},
   "outputs": [],
   "source": [
    "pca = PCA(n_components=0.99)\n",
    "pca.fit(X_train)\n",
    "X_train_PCA = pca.transform(X_train)\n",
    "X_test_PCA = pca.transform(X_test)"
   ]
  },
  {
   "cell_type": "markdown",
   "metadata": {},
   "source": [
    "### Random Forest"
   ]
  },
  {
   "cell_type": "code",
   "execution_count": 40,
   "metadata": {},
   "outputs": [],
   "source": [
    "model_rf = RandomForestClassifier()"
   ]
  },
  {
   "cell_type": "code",
   "execution_count": 41,
   "metadata": {},
   "outputs": [
    {
     "name": "stderr",
     "output_type": "stream",
     "text": [
      "[Parallel(n_jobs=-1)]: Using backend LokyBackend with 4 concurrent workers.\n",
      "[Parallel(n_jobs=-1)]: Done   5 out of   5 | elapsed:   11.6s finished\n"
     ]
    },
    {
     "data": {
      "text/plain": [
       "array([0.86002809, 0.86043636, 0.86844362, 0.85485822, 0.83526671])"
      ]
     },
     "execution_count": 41,
     "metadata": {},
     "output_type": "execute_result"
    }
   ],
   "source": [
    "cross_val_score(model_rf, X_train, y_train, scoring=\"roc_auc\", n_jobs=-1, verbose=2)"
   ]
  },
  {
   "cell_type": "code",
   "execution_count": 42,
   "metadata": {},
   "outputs": [
    {
     "data": {
      "text/plain": [
       "RandomForestClassifier()"
      ]
     },
     "execution_count": 42,
     "metadata": {},
     "output_type": "execute_result"
    }
   ],
   "source": [
    "model_rf.fit(X_train, y_train)"
   ]
  },
  {
   "cell_type": "code",
   "execution_count": 43,
   "metadata": {},
   "outputs": [
    {
     "data": {
      "text/plain": [
       "0.8530734632683659"
      ]
     },
     "execution_count": 43,
     "metadata": {},
     "output_type": "execute_result"
    }
   ],
   "source": [
    "np.mean(model_rf.predict(X_test) == y_test)"
   ]
  },
  {
   "cell_type": "code",
   "execution_count": 44,
   "metadata": {},
   "outputs": [
    {
     "data": {
      "text/plain": [
       "<sklearn.metrics._plot.confusion_matrix.ConfusionMatrixDisplay at 0x25448c38708>"
      ]
     },
     "execution_count": 44,
     "metadata": {},
     "output_type": "execute_result"
    },
    {
     "data": {
      "image/png": "[encoded data removed]",
      "text/plain": [
       "<Figure size 864x432 with 2 Axes>"
      ]
     },
     "metadata": {
      "needs_background": "light"
     },
     "output_type": "display_data"
    }
   ],
   "source": [
    "plot_confusion_matrix(model_rf, X_test, y_test)"
   ]
  },
  {
   "cell_type": "code",
   "execution_count": 45,
   "metadata": {},
   "outputs": [
    {
     "name": "stdout",
     "output_type": "stream",
     "text": [
      "Fitting 5 folds for each of 20 candidates, totalling 100 fits\n"
     ]
    },
    {
     "name": "stderr",
     "output_type": "stream",
     "text": [
      "[Parallel(n_jobs=1)]: Using backend SequentialBackend with 1 concurrent workers.\n",
      "[Parallel(n_jobs=1)]: Done 100 out of 100 | elapsed:  5.7min finished\n"
     ]
    },
    {
     "data": {
      "text/plain": [
       "GridSearchCV(estimator=RandomForestClassifier(n_jobs=-1),\n",
       "             param_grid={'max_depth': [25, 50, 100, 200, None],\n",
       "                         'n_estimators': [50, 100, 200, 500]},\n",
       "             scoring='roc_auc', verbose=1)"
      ]
     },
     "execution_count": 45,
     "metadata": {},
     "output_type": "execute_result"
    }
   ],
   "source": [
    "GS_RF = GridSearchCV(\n",
    "    RandomForestClassifier(n_jobs=-1),\n",
    "    param_grid={\n",
    "        \"n_estimators\": [50, 100, 200, 500],\n",
    "        \"max_depth\": [25, 50, 100, 200, None],\n",
    "    },\n",
    "    verbose=1,\n",
    "    scoring=\"roc_auc\",\n",
    ")\n",
    "GS_RF.fit(X_train, y_train)"
   ]
  },
  {
   "cell_type": "code",
   "execution_count": 46,
   "metadata": {},
   "outputs": [
    {
     "data": {
      "text/plain": [
       "RandomForestClassifier(n_estimators=500, n_jobs=-1)"
      ]
     },
     "execution_count": 46,
     "metadata": {},
     "output_type": "execute_result"
    }
   ],
   "source": [
    "best_GS_RF = GS_RF.best_estimator_\n",
    "best_GS_RF"
   ]
  },
  {
   "cell_type": "code",
   "execution_count": 47,
   "metadata": {},
   "outputs": [
    {
     "data": {
      "text/plain": [
       "0.8642417109867624"
      ]
     },
     "execution_count": 47,
     "metadata": {},
     "output_type": "execute_result"
    }
   ],
   "source": [
    "GS_RF.best_score_"
   ]
  },
  {
   "cell_type": "markdown",
   "metadata": {},
   "source": [
    "### Ridge Classifier"
   ]
  },
  {
   "cell_type": "code",
   "execution_count": 48,
   "metadata": {},
   "outputs": [],
   "source": [
    "model_rc = RidgeClassifier()"
   ]
  },
  {
   "cell_type": "code",
   "execution_count": 49,
   "metadata": {},
   "outputs": [
    {
     "name": "stderr",
     "output_type": "stream",
     "text": [
      "[Parallel(n_jobs=-1)]: Using backend LokyBackend with 4 concurrent workers.\n",
      "[Parallel(n_jobs=-1)]: Done   5 out of   5 | elapsed:    0.6s finished\n"
     ]
    },
    {
     "data": {
      "text/plain": [
       "array([0.85389591, 0.84557856, 0.85995772, 0.83432481, 0.81222487])"
      ]
     },
     "execution_count": 49,
     "metadata": {},
     "output_type": "execute_result"
    }
   ],
   "source": [
    "cross_val_score(model_rc, X_train, y_train, scoring=\"roc_auc\", n_jobs=-1, verbose=2)"
   ]
  },
  {
   "cell_type": "code",
   "execution_count": 50,
   "metadata": {},
   "outputs": [
    {
     "data": {
      "text/plain": [
       "RidgeClassifier()"
      ]
     },
     "execution_count": 50,
     "metadata": {},
     "output_type": "execute_result"
    }
   ],
   "source": [
    "model_rc.fit(X_train, y_train)"
   ]
  },
  {
   "cell_type": "code",
   "execution_count": 51,
   "metadata": {},
   "outputs": [
    {
     "data": {
      "text/plain": [
       "0.8425787106446777"
      ]
     },
     "execution_count": 51,
     "metadata": {},
     "output_type": "execute_result"
    }
   ],
   "source": [
    "np.mean(model_rc.predict(X_test) == y_test)"
   ]
  },
  {
   "cell_type": "code",
   "execution_count": 52,
   "metadata": {},
   "outputs": [
    {
     "data": {
      "text/plain": [
       "<sklearn.metrics._plot.confusion_matrix.ConfusionMatrixDisplay at 0x25449b9cd08>"
      ]
     },
     "execution_count": 52,
     "metadata": {},
     "output_type": "execute_result"
    },
    {
     "data": {
      "image/png": "[encoded data removed]",
      "text/plain": [
       "<Figure size 864x432 with 2 Axes>"
      ]
     },
     "metadata": {
      "needs_background": "light"
     },
     "output_type": "display_data"
    }
   ],
   "source": [
    "plot_confusion_matrix(model_rc, X_test, y_test)"
   ]
  },
  {
   "cell_type": "code",
   "execution_count": 53,
   "metadata": {},
   "outputs": [
    {
     "name": "stdout",
     "output_type": "stream",
     "text": [
      "Fitting 5 folds for each of 6 candidates, totalling 30 fits\n"
     ]
    },
    {
     "name": "stderr",
     "output_type": "stream",
     "text": [
      "[Parallel(n_jobs=1)]: Using backend SequentialBackend with 1 concurrent workers.\n",
      "[Parallel(n_jobs=1)]: Done  30 out of  30 | elapsed:    3.6s finished\n"
     ]
    },
    {
     "data": {
      "text/plain": [
       "GridSearchCV(estimator=RidgeClassifier(class_weight='balanced'),\n",
       "             param_grid={'alpha': [1, 10, 100, 1000, 10000, 100000]},\n",
       "             scoring='roc_auc', verbose=1)"
      ]
     },
     "execution_count": 53,
     "metadata": {},
     "output_type": "execute_result"
    }
   ],
   "source": [
    "GS_RC = GridSearchCV(\n",
    "    RidgeClassifier(class_weight=\"balanced\"),\n",
    "    param_grid={\"alpha\": [1, 10, 100, 10 ** 3, 10 ** 4, 10 ** 5]},\n",
    "    verbose=1,\n",
    "    scoring=\"roc_auc\",\n",
    ")\n",
    "GS_RC.fit(X_train, y_train)"
   ]
  },
  {
   "cell_type": "code",
   "execution_count": 54,
   "metadata": {},
   "outputs": [
    {
     "data": {
      "text/plain": [
       "RidgeClassifier(alpha=100, class_weight='balanced')"
      ]
     },
     "execution_count": 54,
     "metadata": {},
     "output_type": "execute_result"
    }
   ],
   "source": [
    "best_GS_RC = GS_RC.best_estimator_\n",
    "best_GS_RC"
   ]
  },
  {
   "cell_type": "code",
   "execution_count": 55,
   "metadata": {},
   "outputs": [
    {
     "data": {
      "text/plain": [
       "0.8495798707795184"
      ]
     },
     "execution_count": 55,
     "metadata": {},
     "output_type": "execute_result"
    }
   ],
   "source": [
    "GS_RC.best_score_"
   ]
  },
  {
   "cell_type": "code",
   "execution_count": 56,
   "metadata": {},
   "outputs": [
    {
     "data": {
      "text/plain": [
       "<sklearn.metrics._plot.confusion_matrix.ConfusionMatrixDisplay at 0x25449c212c8>"
      ]
     },
     "execution_count": 56,
     "metadata": {},
     "output_type": "execute_result"
    },
    {
     "data": {
      "image/png": "[encoded data removed]",
      "text/plain": [
       "<Figure size 864x432 with 2 Axes>"
      ]
     },
     "metadata": {
      "needs_background": "light"
     },
     "output_type": "display_data"
    }
   ],
   "source": [
    "plot_confusion_matrix(GS_RC.best_estimator_, X_test, y_test)"
   ]
  },
  {
   "cell_type": "markdown",
   "metadata": {},
   "source": [
    "### Ridge Classifier PCA"
   ]
  },
  {
   "cell_type": "code",
   "execution_count": 57,
   "metadata": {},
   "outputs": [],
   "source": [
    "model_rc_PCA = RidgeClassifier()"
   ]
  },
  {
   "cell_type": "code",
   "execution_count": 58,
   "metadata": {},
   "outputs": [
    {
     "name": "stderr",
     "output_type": "stream",
     "text": [
      "[Parallel(n_jobs=-1)]: Using backend LokyBackend with 4 concurrent workers.\n",
      "[Parallel(n_jobs=-1)]: Done   5 out of   5 | elapsed:    0.0s finished\n"
     ]
    },
    {
     "data": {
      "text/plain": [
       "array([0.81423457, 0.80180288, 0.86109449, 0.85810034, 0.78874678])"
      ]
     },
     "execution_count": 58,
     "metadata": {},
     "output_type": "execute_result"
    }
   ],
   "source": [
    "cross_val_score(\n",
    "    model_rc_PCA, X_train_PCA, y_train, scoring=\"roc_auc\", n_jobs=-1, verbose=2\n",
    ")"
   ]
  },
  {
   "cell_type": "code",
   "execution_count": 59,
   "metadata": {},
   "outputs": [
    {
     "data": {
      "text/plain": [
       "RidgeClassifier()"
      ]
     },
     "execution_count": 59,
     "metadata": {},
     "output_type": "execute_result"
    }
   ],
   "source": [
    "model_rc_PCA.fit(X_train_PCA, y_train)"
   ]
  },
  {
   "cell_type": "code",
   "execution_count": 60,
   "metadata": {},
   "outputs": [
    {
     "data": {
      "text/plain": [
       "0.8320839580209896"
      ]
     },
     "execution_count": 60,
     "metadata": {},
     "output_type": "execute_result"
    }
   ],
   "source": [
    "np.mean(model_rc_PCA.predict(X_test_PCA) == y_test)"
   ]
  },
  {
   "cell_type": "code",
   "execution_count": 61,
   "metadata": {},
   "outputs": [
    {
     "data": {
      "text/plain": [
       "<sklearn.metrics._plot.confusion_matrix.ConfusionMatrixDisplay at 0x25448d987c8>"
      ]
     },
     "execution_count": 61,
     "metadata": {},
     "output_type": "execute_result"
    },
    {
     "data": {
      "image/png": "[encoded data removed]",
      "text/plain": [
       "<Figure size 864x432 with 2 Axes>"
      ]
     },
     "metadata": {
      "needs_background": "light"
     },
     "output_type": "display_data"
    }
   ],
   "source": [
    "plot_confusion_matrix(model_rc_PCA, X_test_PCA, y_test)"
   ]
  },
  {
   "cell_type": "code",
   "execution_count": 62,
   "metadata": {},
   "outputs": [
    {
     "name": "stdout",
     "output_type": "stream",
     "text": [
      "Fitting 5 folds for each of 6 candidates, totalling 30 fits\n"
     ]
    },
    {
     "name": "stderr",
     "output_type": "stream",
     "text": [
      "[Parallel(n_jobs=1)]: Using backend SequentialBackend with 1 concurrent workers.\n",
      "[Parallel(n_jobs=1)]: Done  30 out of  30 | elapsed:    0.5s finished\n"
     ]
    },
    {
     "data": {
      "text/plain": [
       "GridSearchCV(estimator=RidgeClassifier(class_weight='balanced'),\n",
       "             param_grid={'alpha': [1, 10, 100, 1000, 10000, 100000]},\n",
       "             scoring='roc_auc', verbose=1)"
      ]
     },
     "execution_count": 62,
     "metadata": {},
     "output_type": "execute_result"
    }
   ],
   "source": [
    "GS_RC_PCA = GridSearchCV(\n",
    "    RidgeClassifier(class_weight=\"balanced\"),\n",
    "    param_grid={\"alpha\": [1, 10, 100, 10 ** 3, 10 ** 4, 10 ** 5]},\n",
    "    verbose=1,\n",
    "    scoring=\"roc_auc\",\n",
    ")\n",
    "GS_RC_PCA.fit(X_train_PCA, y_train)"
   ]
  },
  {
   "cell_type": "code",
   "execution_count": 63,
   "metadata": {},
   "outputs": [
    {
     "data": {
      "text/plain": [
       "RidgeClassifier(alpha=1000, class_weight='balanced')"
      ]
     },
     "execution_count": 63,
     "metadata": {},
     "output_type": "execute_result"
    }
   ],
   "source": [
    "best_GS_RC_PCA = GS_RC_PCA.best_estimator_\n",
    "best_GS_RC_PCA"
   ]
  },
  {
   "cell_type": "code",
   "execution_count": 64,
   "metadata": {},
   "outputs": [
    {
     "data": {
      "text/plain": [
       "0.8409391193772724"
      ]
     },
     "execution_count": 64,
     "metadata": {},
     "output_type": "execute_result"
    }
   ],
   "source": [
    "GS_RC_PCA.best_score_"
   ]
  },
  {
   "cell_type": "code",
   "execution_count": 65,
   "metadata": {},
   "outputs": [
    {
     "data": {
      "text/plain": [
       "<sklearn.metrics._plot.confusion_matrix.ConfusionMatrixDisplay at 0x25449c46388>"
      ]
     },
     "execution_count": 65,
     "metadata": {},
     "output_type": "execute_result"
    },
    {
     "data": {
      "image/png": "[encoded data removed]",
      "text/plain": [
       "<Figure size 864x432 with 2 Axes>"
      ]
     },
     "metadata": {
      "needs_background": "light"
     },
     "output_type": "display_data"
    }
   ],
   "source": [
    "plot_confusion_matrix(GS_RC_PCA.best_estimator_, X_test_PCA, y_test)"
   ]
  },
  {
   "cell_type": "markdown",
   "metadata": {},
   "source": [
    "### Gradient Boosting Classifier"
   ]
  },
  {
   "cell_type": "code",
   "execution_count": 66,
   "metadata": {},
   "outputs": [],
   "source": [
    "model_gbc = GradientBoostingClassifier()"
   ]
  },
  {
   "cell_type": "code",
   "execution_count": 67,
   "metadata": {},
   "outputs": [
    {
     "name": "stderr",
     "output_type": "stream",
     "text": [
      "[Parallel(n_jobs=-1)]: Using backend LokyBackend with 4 concurrent workers.\n",
      "[Parallel(n_jobs=-1)]: Done   5 out of   5 | elapsed:  1.7min finished\n"
     ]
    },
    {
     "data": {
      "text/plain": [
       "array([0.85763456, 0.86079534, 0.85979817, 0.86524886, 0.85834821])"
      ]
     },
     "execution_count": 67,
     "metadata": {},
     "output_type": "execute_result"
    }
   ],
   "source": [
    "cross_val_score(model_gbc, X_train, y_train, scoring=\"roc_auc\", n_jobs=-1, verbose=2)"
   ]
  },
  {
   "cell_type": "code",
   "execution_count": 68,
   "metadata": {},
   "outputs": [
    {
     "data": {
      "text/plain": [
       "GradientBoostingClassifier()"
      ]
     },
     "execution_count": 68,
     "metadata": {},
     "output_type": "execute_result"
    }
   ],
   "source": [
    "model_gbc.fit(X_train, y_train)"
   ]
  },
  {
   "cell_type": "code",
   "execution_count": 69,
   "metadata": {},
   "outputs": [
    {
     "data": {
      "text/plain": [
       "0.8500749625187406"
      ]
     },
     "execution_count": 69,
     "metadata": {},
     "output_type": "execute_result"
    }
   ],
   "source": [
    "np.mean(model_gbc.predict(X_test) == y_test)"
   ]
  },
  {
   "cell_type": "code",
   "execution_count": 70,
   "metadata": {},
   "outputs": [
    {
     "data": {
      "text/plain": [
       "<sklearn.metrics._plot.confusion_matrix.ConfusionMatrixDisplay at 0x25430b1ba88>"
      ]
     },
     "execution_count": 70,
     "metadata": {},
     "output_type": "execute_result"
    },
    {
     "data": {
      "image/png": "[encoded data removed]",
      "text/plain": [
       "<Figure size 864x432 with 2 Axes>"
      ]
     },
     "metadata": {
      "needs_background": "light"
     },
     "output_type": "display_data"
    }
   ],
   "source": [
    "plot_confusion_matrix(model_gbc, X_test, y_test)"
   ]
  },
  {
   "cell_type": "markdown",
   "metadata": {},
   "source": [
    "### SVM"
   ]
  },
  {
   "cell_type": "code",
   "execution_count": 71,
   "metadata": {},
   "outputs": [],
   "source": [
    "model_svc = SVC()"
   ]
  },
  {
   "cell_type": "code",
   "execution_count": 72,
   "metadata": {},
   "outputs": [
    {
     "name": "stderr",
     "output_type": "stream",
     "text": [
      "[Parallel(n_jobs=-1)]: Using backend LokyBackend with 4 concurrent workers.\n",
      "[Parallel(n_jobs=-1)]: Done   5 out of   5 | elapsed:    8.6s finished\n"
     ]
    },
    {
     "data": {
      "text/plain": [
       "array([0.86499318, 0.85943919, 0.87625145, 0.86964109, 0.8388955 ])"
      ]
     },
     "execution_count": 72,
     "metadata": {},
     "output_type": "execute_result"
    }
   ],
   "source": [
    "cross_val_score(model_svc, X_train, y_train, scoring=\"roc_auc\", n_jobs=-1, verbose=2)"
   ]
  },
  {
   "cell_type": "code",
   "execution_count": 73,
   "metadata": {},
   "outputs": [
    {
     "data": {
      "text/plain": [
       "SVC()"
      ]
     },
     "execution_count": 73,
     "metadata": {},
     "output_type": "execute_result"
    }
   ],
   "source": [
    "model_svc.fit(X_train, y_train)"
   ]
  },
  {
   "cell_type": "code",
   "execution_count": 74,
   "metadata": {},
   "outputs": [
    {
     "data": {
      "text/plain": [
       "0.8380809595202399"
      ]
     },
     "execution_count": 74,
     "metadata": {},
     "output_type": "execute_result"
    }
   ],
   "source": [
    "np.mean(model_svc.predict(X_test) == y_test)"
   ]
  },
  {
   "cell_type": "code",
   "execution_count": 75,
   "metadata": {},
   "outputs": [
    {
     "data": {
      "text/plain": [
       "<sklearn.metrics._plot.confusion_matrix.ConfusionMatrixDisplay at 0x25449a78788>"
      ]
     },
     "execution_count": 75,
     "metadata": {},
     "output_type": "execute_result"
    },
    {
     "data": {
      "image/png": "[encoded data removed]",
      "text/plain": [
       "<Figure size 864x432 with 2 Axes>"
      ]
     },
     "metadata": {
      "needs_background": "light"
     },
     "output_type": "display_data"
    }
   ],
   "source": [
    "plot_confusion_matrix(model_svc, X_test, y_test)"
   ]
  },
  {
   "cell_type": "code",
   "execution_count": 76,
   "metadata": {},
   "outputs": [
    {
     "name": "stdout",
     "output_type": "stream",
     "text": [
      "Fitting 5 folds for each of 4 candidates, totalling 20 fits\n"
     ]
    },
    {
     "name": "stderr",
     "output_type": "stream",
     "text": [
      "[Parallel(n_jobs=1)]: Using backend SequentialBackend with 1 concurrent workers.\n",
      "[Parallel(n_jobs=1)]: Done  20 out of  20 | elapsed:  1.2min finished\n"
     ]
    },
    {
     "data": {
      "text/plain": [
       "GridSearchCV(estimator=SVC(class_weight='balanced'),\n",
       "             param_grid={'C': [1, 10, 20, 100]}, scoring='roc_auc', verbose=1)"
      ]
     },
     "execution_count": 76,
     "metadata": {},
     "output_type": "execute_result"
    }
   ],
   "source": [
    "GS_SVC = GridSearchCV(\n",
    "    SVC(class_weight=\"balanced\"),\n",
    "    param_grid={\"C\": [1, 10, 20, 100]},\n",
    "    verbose=1,\n",
    "    scoring=\"roc_auc\",\n",
    ")\n",
    "GS_SVC.fit(X_train, y_train)\n",
    "# \"kernel\": [\"linear\", \"poly\", \"rbf\", \"sigmoid\"]"
   ]
  },
  {
   "cell_type": "code",
   "execution_count": 77,
   "metadata": {},
   "outputs": [
    {
     "data": {
      "text/plain": [
       "SVC(C=1, class_weight='balanced')"
      ]
     },
     "execution_count": 77,
     "metadata": {},
     "output_type": "execute_result"
    }
   ],
   "source": [
    "GS_SVC.best_estimator_"
   ]
  },
  {
   "cell_type": "code",
   "execution_count": 78,
   "metadata": {},
   "outputs": [
    {
     "data": {
      "text/plain": [
       "0.8638947529013634"
      ]
     },
     "execution_count": 78,
     "metadata": {},
     "output_type": "execute_result"
    }
   ],
   "source": [
    "GS_SVC.best_score_"
   ]
  },
  {
   "cell_type": "code",
   "execution_count": 79,
   "metadata": {},
   "outputs": [
    {
     "data": {
      "text/plain": [
       "<sklearn.metrics._plot.confusion_matrix.ConfusionMatrixDisplay at 0x25449b08808>"
      ]
     },
     "execution_count": 79,
     "metadata": {},
     "output_type": "execute_result"
    },
    {
     "data": {
      "image/png": "[encoded data removed]",
      "text/plain": [
       "<Figure size 864x432 with 2 Axes>"
      ]
     },
     "metadata": {
      "needs_background": "light"
     },
     "output_type": "display_data"
    }
   ],
   "source": [
    "plot_confusion_matrix(GS_SVC.best_estimator_, X_test, y_test)"
   ]
  },
  {
   "cell_type": "markdown",
   "metadata": {},
   "source": [
    "### ROC Curves"
   ]
  },
  {
   "cell_type": "code",
   "execution_count": 80,
   "metadata": {},
   "outputs": [
    {
     "data": {
      "text/plain": [
       "0.8802166781109331"
      ]
     },
     "execution_count": 80,
     "metadata": {},
     "output_type": "execute_result"
    }
   ],
   "source": [
    "proba_rf = model_rf.predict_proba(X_test)[:, 1]\n",
    "fpr_rf, tpr_rf, thrs_rf = roc_curve(y_test, proba_rf)\n",
    "roc_auc_score(y_test, proba_rf)"
   ]
  },
  {
   "cell_type": "code",
   "execution_count": 81,
   "metadata": {},
   "outputs": [
    {
     "data": {
      "text/plain": [
       "0.8546196688792248"
      ]
     },
     "execution_count": 81,
     "metadata": {},
     "output_type": "execute_result"
    }
   ],
   "source": [
    "decision_rc = best_GS_RC.decision_function(X_test)\n",
    "fpr_rc, tpr_rc, thrs_rc = roc_curve(y_test, decision_rc)\n",
    "roc_auc_score(y_test, decision_rc)"
   ]
  },
  {
   "cell_type": "code",
   "execution_count": 82,
   "metadata": {},
   "outputs": [
    {
     "data": {
      "text/plain": [
       "0.852210015004705"
      ]
     },
     "execution_count": 82,
     "metadata": {},
     "output_type": "execute_result"
    }
   ],
   "source": [
    "decision_rc_pca = best_GS_RC_PCA.decision_function(X_test_PCA)\n",
    "fpr_rc_pca, tpr_rc_pca, thrs_rc_pca = roc_curve(y_test, decision_rc_pca)\n",
    "roc_auc_score(y_test, decision_rc_pca)"
   ]
  },
  {
   "cell_type": "code",
   "execution_count": 83,
   "metadata": {},
   "outputs": [
    {
     "data": {
      "text/plain": [
       "0.8802039622593525"
      ]
     },
     "execution_count": 83,
     "metadata": {},
     "output_type": "execute_result"
    }
   ],
   "source": [
    "proba_gbc = model_gbc.predict_proba(X_test)[:, 1]\n",
    "fpr_gbc, tpr_gbc, thrs_gbc = roc_curve(y_test, proba_gbc)\n",
    "roc_auc_score(y_test, proba_gbc)"
   ]
  },
  {
   "cell_type": "code",
   "execution_count": 84,
   "metadata": {},
   "outputs": [
    {
     "data": {
      "text/plain": [
       "0.8477086035451794"
      ]
     },
     "execution_count": 84,
     "metadata": {},
     "output_type": "execute_result"
    }
   ],
   "source": [
    "decision_svc = model_svc.decision_function(X_test)\n",
    "fpr_svc, tpr_svc, thrs_svc = roc_curve(y_test, decision_svc)\n",
    "roc_auc_score(y_test, decision_svc)"
   ]
  },
  {
   "cell_type": "code",
   "execution_count": 85,
   "metadata": {},
   "outputs": [
    {
     "data": {
      "text/plain": [
       "<matplotlib.legend.Legend at 0x25449ce4c08>"
      ]
     },
     "execution_count": 85,
     "metadata": {},
     "output_type": "execute_result"
    },
    {
     "data": {
      "image/png": "[encoded data removed]",
      "text/plain": [
       "<Figure size 864x432 with 1 Axes>"
      ]
     },
     "metadata": {
      "needs_background": "light"
     },
     "output_type": "display_data"
    }
   ],
   "source": [
    "plt.plot(fpr_rf, tpr_rf, marker=\".\", label=\"Random Forest\")\n",
    "plt.plot(fpr_rc, tpr_rc, marker=\".\", label=\"Ridge Classifier\")\n",
    "plt.plot(fpr_rc_pca, tpr_rc_pca, marker=\".\", label=\"Ridge Classifier with PCA\")\n",
    "plt.plot(fpr_gbc, tpr_gbc, marker=\".\", label=\"Gradient Boosting Classifier\")\n",
    "plt.plot(fpr_svc, tpr_svc, marker=\".\", label=\"Linear SVM\")\n",
    "plt.legend()"
   ]
  },
  {
   "cell_type": "code",
   "execution_count": null,
   "metadata": {},
   "outputs": [],
   "source": []
  }
 ],
 "metadata": {
  "kernelspec": {
   "display_name": "Python 3",
   "language": "python",
   "name": "python3"
  },
  "language_info": {
   "codemirror_mode": {
    "name": "ipython",
    "version": 3
   },
   "file_extension": ".py",
   "mimetype": "text/x-python",
   "name": "python",
   "nbconvert_exporter": "python",
   "pygments_lexer": "ipython3",
   "version": "3.7.9"
  }
 },
 "nbformat": 4,
 "nbformat_minor": 4
}
